{
 "cells": [
  {
   "cell_type": "markdown",
   "metadata": {
    "id": "BBv-oIFLVYRz"
   },
   "source": [
    "# Курсовая работа. Блок ML Beginner\n",
    "<br>\n",
    "\n",
    "**NB!** Код должен быть с комментариями к каждому логическому блоку кода. В противном случае работа **не** будет принята. <br><br>\n",
    "Выполнение курсовой работы может потребовать использование дополнительных библиотек. Может потребоваться предварительная обработка данных.\n",
    "\n",
    "<br><br>\n",
    "**Описание работы:**\n",
    "&nbsp;&nbsp;&nbsp;&nbsp;\n",
    "<br><br>\n",
    "&nbsp;&nbsp;&nbsp;&nbsp; Любой бизнес хочет максимизировать количество клиентов. Для достижения этой цели важно не только пытаться привлечь новых, но и удерживать уже существующих. Удержать клиента обойдется компании дешевле, чем привлечь нового. Кроме того, новый клиент может оказаться слабо заинтересованным в услугах бизнеса и с ним будет сложно работать, тогда как о старых клиентах уже есть необходимые данные по взаимодействию с сервисом. \n",
    " <br>\n",
    "\n",
    "&nbsp;&nbsp;&nbsp;&nbsp; Соответственно, прогнозируя отток, мы можем вовремя среагировать и попытаться удержать клиента, который хочет уйти. Опираясь на данные об услугах, которыми пользуется клиент, мы можем сделать ему специальное предложение, пытаясь изменить его решение об уходе от оператора. Благодаря этому задача удержания будет легче в реализации, чем задача привлечения новых пользователей, о которых мы еще ничего не знаем.<br>\n",
    "\n",
    "&nbsp;&nbsp;&nbsp;&nbsp; Вам предоставлен набор данных от телекоммуникационной компании. В данных содержится информация о почти шести тысячах пользователей, их демографических характеристиках, услугах, которыми они пользуются, длительности пользования услугами оператора, методе оплаты, размере оплаты. \n",
    "<br>\n",
    "\n",
    "&nbsp;&nbsp;&nbsp;&nbsp; Cтоит задача проанализировать данные и спрогнозировать отток пользователей (выявить людей, которые продлят контракт и которые не продлят). Работа должна включать в себя следующие обязательные пункты: \n",
    "1. Описание данных *(с расчетом базовых статистик)*, \n",
    "2. Исследование зависимостей и формулирование гипотез, \n",
    "3. Построение моделей для прогнозирования оттока *(с обоснованием выбора той или иной модели)* на основе проверенных гипотез и выявленных взаимосвязей, \n",
    "4. Сравнение качества полученных моделей. \n",
    "\n",
    "Во втором разделе обязательно должно присутствовать обоснование гипотез, подробное описание выявленных взаимосвязей, а также их визуализация. \n",
    "<br>В четвертом дополнительно должны быть сформулированы общие выводы работы.\n",
    "\n",
    "<br><br>\n",
    "\n",
    "_________\n",
    "\n",
    "[Codebook](#Codebook) <br>\n",
    "[1. Описание данных](#1.-Описание-данных)<br>\n",
    "[2. Исследование зависимостей и формулирование гипотез](#2.-Исследование-зависимостей-и-формулирование-гипотез)<br>\n",
    "[3. Построение моделей для прогнозирования оттока](#3.-Построение-моделей-для-прогнозирования-оттока)<br>\n",
    "[4. Сравнение качества моделей](#4.-Сравнение-качества-моделей) <br>\n"
   ]
  },
  {
   "cell_type": "markdown",
   "metadata": {
    "id": "2Eh64LGP5deL"
   },
   "source": []
  },
  {
   "cell_type": "markdown",
   "metadata": {
    "id": "uZY64JwzVYR6"
   },
   "source": [
    "## Codebook\n",
    "<br>\n",
    "\n",
    "[Ссылка для скачивания данных](https://drive.google.com/open?id=1dPCG76ST6NohYKtVMGv6HpFL-jD5p1eJ) \n",
    "<br><br>\n",
    "\n",
    "`telecom_users.csv` содержит следующие значения:<br><br>\n",
    "\n",
    "&nbsp;&nbsp;&nbsp;&nbsp; `customerID` – id клиента<br>\n",
    "&nbsp;&nbsp;&nbsp;&nbsp; `gender` – пол клиента (male/female)<br>\n",
    "&nbsp;&nbsp;&nbsp;&nbsp; `SeniorCitizen` – яляется ли клиент пенсионером (1, 0)<br>\n",
    "&nbsp;&nbsp;&nbsp;&nbsp; `Partner` – состоит ли клиент в браке (Yes, No)<br>\n",
    "&nbsp;&nbsp;&nbsp;&nbsp; `Dependents` – есть ли у клиента иждивенцы (Yes, No)<br>\n",
    "&nbsp;&nbsp;&nbsp;&nbsp; `tenure` – сколько месяцев человек являлся клиентом компании<br>\n",
    "&nbsp;&nbsp;&nbsp;&nbsp; `PhoneService` – подключена ли услуга телефонной связи (Yes, No)<br>\n",
    "&nbsp;&nbsp;&nbsp;&nbsp; `MultipleLines` – подключены ли несколько телефонных линий (Yes, No, No phone service)<br>\n",
    "&nbsp;&nbsp;&nbsp;&nbsp; `InternetService` – интернет-провайдер клиента (DSL, Fiber optic, No)<br>\n",
    "&nbsp;&nbsp;&nbsp;&nbsp; `OnlineSecurity` – подключена ли услуга онлайн-безопасности (Yes, No, No internet service)<br>\n",
    "&nbsp;&nbsp;&nbsp;&nbsp; `OnlineBackup` – подключена ли услуга online backup (Yes, No, No internet service)<br>\n",
    "&nbsp;&nbsp;&nbsp;&nbsp; `DeviceProtection` – есть ли у клиента страховка оборудования (Yes, No, No internet service)<br>\n",
    "&nbsp;&nbsp;&nbsp;&nbsp; `TechSupport` – подключена ли услуга технической поддержки (Yes, No, No internet service)<br>\n",
    "&nbsp;&nbsp;&nbsp;&nbsp; `StreamingTV` – подключена ли услуга стримингового телевидения (Yes, No, No internet service)<br>\n",
    "&nbsp;&nbsp;&nbsp;&nbsp; `StreamingMovies` – подключена ли услуга стримингового кинотеатра (Yes, No, No internet service)<br>\n",
    "&nbsp;&nbsp;&nbsp;&nbsp; `Contract` – тип контракта клиента (Month-to-month, One year, Two year)<br>\n",
    "&nbsp;&nbsp;&nbsp;&nbsp; `PaperlessBilling` – пользуется ли клиент безбумажным биллингом (Yes, No)<br>\n",
    "&nbsp;&nbsp;&nbsp;&nbsp; `PaymentMethod` – метод оплаты (Electronic check, Mailed check, Bank transfer (automatic), Credit card (automatic))<br>\n",
    "&nbsp;&nbsp;&nbsp;&nbsp; `MonthlyCharges` – месячный размер оплаты на настоящий момент<br>\n",
    "&nbsp;&nbsp;&nbsp;&nbsp; `TotalCharges` – общая сумма, которую клиент заплатил за услуги за все время<br>\n",
    "&nbsp;&nbsp;&nbsp;&nbsp; `Churn` – произошел ли отток (Yes or No)<br>"
   ]
  },
  {
   "cell_type": "markdown",
   "metadata": {
    "id": "sIRCLuWGVYR9"
   },
   "source": [
    "# 1. Описание данных"
   ]
  },
  {
   "cell_type": "code",
   "execution_count": 1,
   "metadata": {
    "id": "s0fDRVkgVYSA"
   },
   "outputs": [],
   "source": [
    "import pandas as pd\n",
    "import numpy as np\n",
    "import matplotlib.pyplot as plt\n",
    "import seaborn as sns\n",
    "\n",
    "from sklearn.model_selection import train_test_split, StratifiedKFold, GridSearchCV\n",
    "from sklearn.preprocessing import StandardScaler\n",
    "\n",
    "from sklearn.neighbors import KNeighborsClassifier\n",
    "from sklearn.tree import DecisionTreeClassifier\n",
    "from sklearn.linear_model import LogisticRegression, LogisticRegressionCV\n",
    "from sklearn.metrics import precision_score, recall_score, accuracy_score, roc_auc_score\n",
    "\n",
    "from sklearn.ensemble import RandomForestClassifier\n",
    "from sklearn.svm import SVC\n",
    "\n",
    "from xgboost import XGBClassifier"
   ]
  },
  {
   "cell_type": "code",
   "execution_count": 2,
   "metadata": {},
   "outputs": [
    {
     "data": {
      "text/html": [
       "<div>\n",
       "<style scoped>\n",
       "    .dataframe tbody tr th:only-of-type {\n",
       "        vertical-align: middle;\n",
       "    }\n",
       "\n",
       "    .dataframe tbody tr th {\n",
       "        vertical-align: top;\n",
       "    }\n",
       "\n",
       "    .dataframe thead th {\n",
       "        text-align: right;\n",
       "    }\n",
       "</style>\n",
       "<table border=\"1\" class=\"dataframe\">\n",
       "  <thead>\n",
       "    <tr style=\"text-align: right;\">\n",
       "      <th></th>\n",
       "      <th>Unnamed: 0</th>\n",
       "      <th>customerID</th>\n",
       "      <th>gender</th>\n",
       "      <th>SeniorCitizen</th>\n",
       "      <th>Partner</th>\n",
       "      <th>Dependents</th>\n",
       "      <th>tenure</th>\n",
       "      <th>PhoneService</th>\n",
       "      <th>MultipleLines</th>\n",
       "      <th>InternetService</th>\n",
       "      <th>...</th>\n",
       "      <th>DeviceProtection</th>\n",
       "      <th>TechSupport</th>\n",
       "      <th>StreamingTV</th>\n",
       "      <th>StreamingMovies</th>\n",
       "      <th>Contract</th>\n",
       "      <th>PaperlessBilling</th>\n",
       "      <th>PaymentMethod</th>\n",
       "      <th>MonthlyCharges</th>\n",
       "      <th>TotalCharges</th>\n",
       "      <th>Churn</th>\n",
       "    </tr>\n",
       "  </thead>\n",
       "  <tbody>\n",
       "    <tr>\n",
       "      <th>0</th>\n",
       "      <td>1869</td>\n",
       "      <td>7010-BRBUU</td>\n",
       "      <td>Male</td>\n",
       "      <td>0</td>\n",
       "      <td>Yes</td>\n",
       "      <td>Yes</td>\n",
       "      <td>72</td>\n",
       "      <td>Yes</td>\n",
       "      <td>Yes</td>\n",
       "      <td>No</td>\n",
       "      <td>...</td>\n",
       "      <td>No internet service</td>\n",
       "      <td>No internet service</td>\n",
       "      <td>No internet service</td>\n",
       "      <td>No internet service</td>\n",
       "      <td>Two year</td>\n",
       "      <td>No</td>\n",
       "      <td>Credit card (automatic)</td>\n",
       "      <td>24.10</td>\n",
       "      <td>1734.65</td>\n",
       "      <td>No</td>\n",
       "    </tr>\n",
       "    <tr>\n",
       "      <th>1</th>\n",
       "      <td>4528</td>\n",
       "      <td>9688-YGXVR</td>\n",
       "      <td>Female</td>\n",
       "      <td>0</td>\n",
       "      <td>No</td>\n",
       "      <td>No</td>\n",
       "      <td>44</td>\n",
       "      <td>Yes</td>\n",
       "      <td>No</td>\n",
       "      <td>Fiber optic</td>\n",
       "      <td>...</td>\n",
       "      <td>Yes</td>\n",
       "      <td>No</td>\n",
       "      <td>Yes</td>\n",
       "      <td>No</td>\n",
       "      <td>Month-to-month</td>\n",
       "      <td>Yes</td>\n",
       "      <td>Credit card (automatic)</td>\n",
       "      <td>88.15</td>\n",
       "      <td>3973.2</td>\n",
       "      <td>No</td>\n",
       "    </tr>\n",
       "    <tr>\n",
       "      <th>2</th>\n",
       "      <td>6344</td>\n",
       "      <td>9286-DOJGF</td>\n",
       "      <td>Female</td>\n",
       "      <td>1</td>\n",
       "      <td>Yes</td>\n",
       "      <td>No</td>\n",
       "      <td>38</td>\n",
       "      <td>Yes</td>\n",
       "      <td>Yes</td>\n",
       "      <td>Fiber optic</td>\n",
       "      <td>...</td>\n",
       "      <td>No</td>\n",
       "      <td>No</td>\n",
       "      <td>No</td>\n",
       "      <td>No</td>\n",
       "      <td>Month-to-month</td>\n",
       "      <td>Yes</td>\n",
       "      <td>Bank transfer (automatic)</td>\n",
       "      <td>74.95</td>\n",
       "      <td>2869.85</td>\n",
       "      <td>Yes</td>\n",
       "    </tr>\n",
       "    <tr>\n",
       "      <th>3</th>\n",
       "      <td>6739</td>\n",
       "      <td>6994-KERXL</td>\n",
       "      <td>Male</td>\n",
       "      <td>0</td>\n",
       "      <td>No</td>\n",
       "      <td>No</td>\n",
       "      <td>4</td>\n",
       "      <td>Yes</td>\n",
       "      <td>No</td>\n",
       "      <td>DSL</td>\n",
       "      <td>...</td>\n",
       "      <td>No</td>\n",
       "      <td>No</td>\n",
       "      <td>No</td>\n",
       "      <td>Yes</td>\n",
       "      <td>Month-to-month</td>\n",
       "      <td>Yes</td>\n",
       "      <td>Electronic check</td>\n",
       "      <td>55.90</td>\n",
       "      <td>238.5</td>\n",
       "      <td>No</td>\n",
       "    </tr>\n",
       "    <tr>\n",
       "      <th>4</th>\n",
       "      <td>432</td>\n",
       "      <td>2181-UAESM</td>\n",
       "      <td>Male</td>\n",
       "      <td>0</td>\n",
       "      <td>No</td>\n",
       "      <td>No</td>\n",
       "      <td>2</td>\n",
       "      <td>Yes</td>\n",
       "      <td>No</td>\n",
       "      <td>DSL</td>\n",
       "      <td>...</td>\n",
       "      <td>Yes</td>\n",
       "      <td>No</td>\n",
       "      <td>No</td>\n",
       "      <td>No</td>\n",
       "      <td>Month-to-month</td>\n",
       "      <td>No</td>\n",
       "      <td>Electronic check</td>\n",
       "      <td>53.45</td>\n",
       "      <td>119.5</td>\n",
       "      <td>No</td>\n",
       "    </tr>\n",
       "  </tbody>\n",
       "</table>\n",
       "<p>5 rows × 22 columns</p>\n",
       "</div>"
      ],
      "text/plain": [
       "   Unnamed: 0  customerID  gender  SeniorCitizen Partner Dependents  tenure  \\\n",
       "0        1869  7010-BRBUU    Male              0     Yes        Yes      72   \n",
       "1        4528  9688-YGXVR  Female              0      No         No      44   \n",
       "2        6344  9286-DOJGF  Female              1     Yes         No      38   \n",
       "3        6739  6994-KERXL    Male              0      No         No       4   \n",
       "4         432  2181-UAESM    Male              0      No         No       2   \n",
       "\n",
       "  PhoneService MultipleLines InternetService  ...     DeviceProtection  \\\n",
       "0          Yes           Yes              No  ...  No internet service   \n",
       "1          Yes            No     Fiber optic  ...                  Yes   \n",
       "2          Yes           Yes     Fiber optic  ...                   No   \n",
       "3          Yes            No             DSL  ...                   No   \n",
       "4          Yes            No             DSL  ...                  Yes   \n",
       "\n",
       "           TechSupport          StreamingTV      StreamingMovies  \\\n",
       "0  No internet service  No internet service  No internet service   \n",
       "1                   No                  Yes                   No   \n",
       "2                   No                   No                   No   \n",
       "3                   No                   No                  Yes   \n",
       "4                   No                   No                   No   \n",
       "\n",
       "         Contract PaperlessBilling              PaymentMethod MonthlyCharges  \\\n",
       "0        Two year               No    Credit card (automatic)          24.10   \n",
       "1  Month-to-month              Yes    Credit card (automatic)          88.15   \n",
       "2  Month-to-month              Yes  Bank transfer (automatic)          74.95   \n",
       "3  Month-to-month              Yes           Electronic check          55.90   \n",
       "4  Month-to-month               No           Electronic check          53.45   \n",
       "\n",
       "  TotalCharges  Churn  \n",
       "0      1734.65     No  \n",
       "1       3973.2     No  \n",
       "2      2869.85    Yes  \n",
       "3        238.5     No  \n",
       "4        119.5     No  \n",
       "\n",
       "[5 rows x 22 columns]"
      ]
     },
     "execution_count": 2,
     "metadata": {},
     "output_type": "execute_result"
    }
   ],
   "source": [
    "# Загружаем данные\n",
    "\n",
    "df = pd.read_csv('telecom_users.csv')\n",
    "\n",
    "df.head()"
   ]
  },
  {
   "cell_type": "code",
   "execution_count": 3,
   "metadata": {},
   "outputs": [
    {
     "name": "stdout",
     "output_type": "stream",
     "text": [
      "<class 'pandas.core.frame.DataFrame'>\n",
      "RangeIndex: 5986 entries, 0 to 5985\n",
      "Data columns (total 22 columns):\n",
      " #   Column            Non-Null Count  Dtype  \n",
      "---  ------            --------------  -----  \n",
      " 0   Unnamed: 0        5986 non-null   int64  \n",
      " 1   customerID        5986 non-null   object \n",
      " 2   gender            5986 non-null   object \n",
      " 3   SeniorCitizen     5986 non-null   int64  \n",
      " 4   Partner           5986 non-null   object \n",
      " 5   Dependents        5986 non-null   object \n",
      " 6   tenure            5986 non-null   int64  \n",
      " 7   PhoneService      5986 non-null   object \n",
      " 8   MultipleLines     5986 non-null   object \n",
      " 9   InternetService   5986 non-null   object \n",
      " 10  OnlineSecurity    5986 non-null   object \n",
      " 11  OnlineBackup      5986 non-null   object \n",
      " 12  DeviceProtection  5986 non-null   object \n",
      " 13  TechSupport       5986 non-null   object \n",
      " 14  StreamingTV       5986 non-null   object \n",
      " 15  StreamingMovies   5986 non-null   object \n",
      " 16  Contract          5986 non-null   object \n",
      " 17  PaperlessBilling  5986 non-null   object \n",
      " 18  PaymentMethod     5986 non-null   object \n",
      " 19  MonthlyCharges    5986 non-null   float64\n",
      " 20  TotalCharges      5986 non-null   object \n",
      " 21  Churn             5986 non-null   object \n",
      "dtypes: float64(1), int64(3), object(18)\n",
      "memory usage: 1.0+ MB\n"
     ]
    }
   ],
   "source": [
    "# Сводная информация по столбцам\n",
    "\n",
    "df.info()"
   ]
  },
  {
   "cell_type": "markdown",
   "metadata": {},
   "source": [
    "Столбец 'Unnamed: 0' судя по всему не несет какой-либо информации, а тип данных в столбце 'TotalCharges' должен быть числовым (float или int)."
   ]
  },
  {
   "cell_type": "code",
   "execution_count": 4,
   "metadata": {},
   "outputs": [],
   "source": [
    "# Удаляем ненужный 'Unnamed' столбец\n",
    "\n",
    "df.drop('Unnamed: 0', axis=1, inplace=True)"
   ]
  },
  {
   "cell_type": "code",
   "execution_count": 5,
   "metadata": {},
   "outputs": [],
   "source": [
    "# Пробуем преобразовать данные из столбца 'TotalCharges' в формат float\n",
    "\n",
    "errors = []\n",
    "\n",
    "\n",
    "def float_converter(vec, errors=errors):\n",
    "    \n",
    "    '''\n",
    "    Конвертируем данные в столбце 'TotalCharges' в формат float,\n",
    "    а если не получается, то проблемное значение сохраняем в список,\n",
    "    а вместо него используем произведение значений из столбцов 'tenure' и 'MonthlyCharges'.\n",
    "    \n",
    "    Принимаем на вход вектор из трех столбцов: 'tenure', 'MonthlyCharges', 'TotalCharges'.\n",
    "    Возвращаем столбец 'TotalCharges'.\n",
    "    '''\n",
    "   \n",
    "    try:\n",
    "        vec[2] = float(vec[2])\n",
    "    except ValueError:\n",
    "        tmp = vec[2]\n",
    "        vec[2] = vec[0] * vec[1]\n",
    "        errors.append((tmp, vec[2]))\n",
    "    return vec[2]"
   ]
  },
  {
   "cell_type": "code",
   "execution_count": 6,
   "metadata": {},
   "outputs": [
    {
     "name": "stdout",
     "output_type": "stream",
     "text": [
      "(' ', 0.0)\n",
      "(' ', 0.0)\n",
      "(' ', 0.0)\n",
      "(' ', 0.0)\n",
      "(' ', 0.0)\n",
      "(' ', 0.0)\n",
      "(' ', 0.0)\n",
      "(' ', 0.0)\n",
      "(' ', 0.0)\n",
      "(' ', 0.0)\n"
     ]
    }
   ],
   "source": [
    "df.TotalCharges = df[['tenure', 'MonthlyCharges', 'TotalCharges']].apply(float_converter, axis=1)\n",
    "\n",
    "# Смотрим на проблемные значения в 'TotalCharges'\n",
    "\n",
    "print(*errors, sep='\\n')"
   ]
  },
  {
   "cell_type": "markdown",
   "metadata": {},
   "source": [
    "Выясним откуда взялись пустые строки в 'TotalCharges'. "
   ]
  },
  {
   "cell_type": "code",
   "execution_count": 7,
   "metadata": {},
   "outputs": [
    {
     "data": {
      "text/html": [
       "<div>\n",
       "<style scoped>\n",
       "    .dataframe tbody tr th:only-of-type {\n",
       "        vertical-align: middle;\n",
       "    }\n",
       "\n",
       "    .dataframe tbody tr th {\n",
       "        vertical-align: top;\n",
       "    }\n",
       "\n",
       "    .dataframe thead th {\n",
       "        text-align: right;\n",
       "    }\n",
       "</style>\n",
       "<table border=\"1\" class=\"dataframe\">\n",
       "  <thead>\n",
       "    <tr style=\"text-align: right;\">\n",
       "      <th></th>\n",
       "      <th>customerID</th>\n",
       "      <th>gender</th>\n",
       "      <th>SeniorCitizen</th>\n",
       "      <th>Partner</th>\n",
       "      <th>Dependents</th>\n",
       "      <th>tenure</th>\n",
       "      <th>PhoneService</th>\n",
       "      <th>MultipleLines</th>\n",
       "      <th>InternetService</th>\n",
       "      <th>OnlineSecurity</th>\n",
       "      <th>...</th>\n",
       "      <th>DeviceProtection</th>\n",
       "      <th>TechSupport</th>\n",
       "      <th>StreamingTV</th>\n",
       "      <th>StreamingMovies</th>\n",
       "      <th>Contract</th>\n",
       "      <th>PaperlessBilling</th>\n",
       "      <th>PaymentMethod</th>\n",
       "      <th>MonthlyCharges</th>\n",
       "      <th>TotalCharges</th>\n",
       "      <th>Churn</th>\n",
       "    </tr>\n",
       "  </thead>\n",
       "  <tbody>\n",
       "    <tr>\n",
       "      <th>356</th>\n",
       "      <td>2775-SEFEE</td>\n",
       "      <td>Male</td>\n",
       "      <td>0</td>\n",
       "      <td>No</td>\n",
       "      <td>Yes</td>\n",
       "      <td>0</td>\n",
       "      <td>Yes</td>\n",
       "      <td>Yes</td>\n",
       "      <td>DSL</td>\n",
       "      <td>Yes</td>\n",
       "      <td>...</td>\n",
       "      <td>No</td>\n",
       "      <td>Yes</td>\n",
       "      <td>No</td>\n",
       "      <td>No</td>\n",
       "      <td>Two year</td>\n",
       "      <td>Yes</td>\n",
       "      <td>Bank transfer (automatic)</td>\n",
       "      <td>61.90</td>\n",
       "      <td>0.0</td>\n",
       "      <td>No</td>\n",
       "    </tr>\n",
       "    <tr>\n",
       "      <th>634</th>\n",
       "      <td>1371-DWPAZ</td>\n",
       "      <td>Female</td>\n",
       "      <td>0</td>\n",
       "      <td>Yes</td>\n",
       "      <td>Yes</td>\n",
       "      <td>0</td>\n",
       "      <td>No</td>\n",
       "      <td>No phone service</td>\n",
       "      <td>DSL</td>\n",
       "      <td>Yes</td>\n",
       "      <td>...</td>\n",
       "      <td>Yes</td>\n",
       "      <td>Yes</td>\n",
       "      <td>Yes</td>\n",
       "      <td>No</td>\n",
       "      <td>Two year</td>\n",
       "      <td>No</td>\n",
       "      <td>Credit card (automatic)</td>\n",
       "      <td>56.05</td>\n",
       "      <td>0.0</td>\n",
       "      <td>No</td>\n",
       "    </tr>\n",
       "    <tr>\n",
       "      <th>2771</th>\n",
       "      <td>3213-VVOLG</td>\n",
       "      <td>Male</td>\n",
       "      <td>0</td>\n",
       "      <td>Yes</td>\n",
       "      <td>Yes</td>\n",
       "      <td>0</td>\n",
       "      <td>Yes</td>\n",
       "      <td>Yes</td>\n",
       "      <td>No</td>\n",
       "      <td>No internet service</td>\n",
       "      <td>...</td>\n",
       "      <td>No internet service</td>\n",
       "      <td>No internet service</td>\n",
       "      <td>No internet service</td>\n",
       "      <td>No internet service</td>\n",
       "      <td>Two year</td>\n",
       "      <td>No</td>\n",
       "      <td>Mailed check</td>\n",
       "      <td>25.35</td>\n",
       "      <td>0.0</td>\n",
       "      <td>No</td>\n",
       "    </tr>\n",
       "    <tr>\n",
       "      <th>3086</th>\n",
       "      <td>2923-ARZLG</td>\n",
       "      <td>Male</td>\n",
       "      <td>0</td>\n",
       "      <td>Yes</td>\n",
       "      <td>Yes</td>\n",
       "      <td>0</td>\n",
       "      <td>Yes</td>\n",
       "      <td>No</td>\n",
       "      <td>No</td>\n",
       "      <td>No internet service</td>\n",
       "      <td>...</td>\n",
       "      <td>No internet service</td>\n",
       "      <td>No internet service</td>\n",
       "      <td>No internet service</td>\n",
       "      <td>No internet service</td>\n",
       "      <td>One year</td>\n",
       "      <td>Yes</td>\n",
       "      <td>Mailed check</td>\n",
       "      <td>19.70</td>\n",
       "      <td>0.0</td>\n",
       "      <td>No</td>\n",
       "    </tr>\n",
       "    <tr>\n",
       "      <th>3255</th>\n",
       "      <td>7644-OMVMY</td>\n",
       "      <td>Male</td>\n",
       "      <td>0</td>\n",
       "      <td>Yes</td>\n",
       "      <td>Yes</td>\n",
       "      <td>0</td>\n",
       "      <td>Yes</td>\n",
       "      <td>No</td>\n",
       "      <td>No</td>\n",
       "      <td>No internet service</td>\n",
       "      <td>...</td>\n",
       "      <td>No internet service</td>\n",
       "      <td>No internet service</td>\n",
       "      <td>No internet service</td>\n",
       "      <td>No internet service</td>\n",
       "      <td>Two year</td>\n",
       "      <td>No</td>\n",
       "      <td>Mailed check</td>\n",
       "      <td>19.85</td>\n",
       "      <td>0.0</td>\n",
       "      <td>No</td>\n",
       "    </tr>\n",
       "    <tr>\n",
       "      <th>4326</th>\n",
       "      <td>5709-LVOEQ</td>\n",
       "      <td>Female</td>\n",
       "      <td>0</td>\n",
       "      <td>Yes</td>\n",
       "      <td>Yes</td>\n",
       "      <td>0</td>\n",
       "      <td>Yes</td>\n",
       "      <td>No</td>\n",
       "      <td>DSL</td>\n",
       "      <td>Yes</td>\n",
       "      <td>...</td>\n",
       "      <td>Yes</td>\n",
       "      <td>No</td>\n",
       "      <td>Yes</td>\n",
       "      <td>Yes</td>\n",
       "      <td>Two year</td>\n",
       "      <td>No</td>\n",
       "      <td>Mailed check</td>\n",
       "      <td>80.85</td>\n",
       "      <td>0.0</td>\n",
       "      <td>No</td>\n",
       "    </tr>\n",
       "    <tr>\n",
       "      <th>5375</th>\n",
       "      <td>3115-CZMZD</td>\n",
       "      <td>Male</td>\n",
       "      <td>0</td>\n",
       "      <td>No</td>\n",
       "      <td>Yes</td>\n",
       "      <td>0</td>\n",
       "      <td>Yes</td>\n",
       "      <td>No</td>\n",
       "      <td>No</td>\n",
       "      <td>No internet service</td>\n",
       "      <td>...</td>\n",
       "      <td>No internet service</td>\n",
       "      <td>No internet service</td>\n",
       "      <td>No internet service</td>\n",
       "      <td>No internet service</td>\n",
       "      <td>Two year</td>\n",
       "      <td>No</td>\n",
       "      <td>Mailed check</td>\n",
       "      <td>20.25</td>\n",
       "      <td>0.0</td>\n",
       "      <td>No</td>\n",
       "    </tr>\n",
       "    <tr>\n",
       "      <th>5382</th>\n",
       "      <td>2520-SGTTA</td>\n",
       "      <td>Female</td>\n",
       "      <td>0</td>\n",
       "      <td>Yes</td>\n",
       "      <td>Yes</td>\n",
       "      <td>0</td>\n",
       "      <td>Yes</td>\n",
       "      <td>No</td>\n",
       "      <td>No</td>\n",
       "      <td>No internet service</td>\n",
       "      <td>...</td>\n",
       "      <td>No internet service</td>\n",
       "      <td>No internet service</td>\n",
       "      <td>No internet service</td>\n",
       "      <td>No internet service</td>\n",
       "      <td>Two year</td>\n",
       "      <td>No</td>\n",
       "      <td>Mailed check</td>\n",
       "      <td>20.00</td>\n",
       "      <td>0.0</td>\n",
       "      <td>No</td>\n",
       "    </tr>\n",
       "    <tr>\n",
       "      <th>5695</th>\n",
       "      <td>4472-LVYGI</td>\n",
       "      <td>Female</td>\n",
       "      <td>0</td>\n",
       "      <td>Yes</td>\n",
       "      <td>Yes</td>\n",
       "      <td>0</td>\n",
       "      <td>No</td>\n",
       "      <td>No phone service</td>\n",
       "      <td>DSL</td>\n",
       "      <td>Yes</td>\n",
       "      <td>...</td>\n",
       "      <td>Yes</td>\n",
       "      <td>Yes</td>\n",
       "      <td>Yes</td>\n",
       "      <td>No</td>\n",
       "      <td>Two year</td>\n",
       "      <td>Yes</td>\n",
       "      <td>Bank transfer (automatic)</td>\n",
       "      <td>52.55</td>\n",
       "      <td>0.0</td>\n",
       "      <td>No</td>\n",
       "    </tr>\n",
       "    <tr>\n",
       "      <th>5951</th>\n",
       "      <td>4367-NUYAO</td>\n",
       "      <td>Male</td>\n",
       "      <td>0</td>\n",
       "      <td>Yes</td>\n",
       "      <td>Yes</td>\n",
       "      <td>0</td>\n",
       "      <td>Yes</td>\n",
       "      <td>Yes</td>\n",
       "      <td>No</td>\n",
       "      <td>No internet service</td>\n",
       "      <td>...</td>\n",
       "      <td>No internet service</td>\n",
       "      <td>No internet service</td>\n",
       "      <td>No internet service</td>\n",
       "      <td>No internet service</td>\n",
       "      <td>Two year</td>\n",
       "      <td>No</td>\n",
       "      <td>Mailed check</td>\n",
       "      <td>25.75</td>\n",
       "      <td>0.0</td>\n",
       "      <td>No</td>\n",
       "    </tr>\n",
       "  </tbody>\n",
       "</table>\n",
       "<p>10 rows × 21 columns</p>\n",
       "</div>"
      ],
      "text/plain": [
       "      customerID  gender  SeniorCitizen Partner Dependents  tenure  \\\n",
       "356   2775-SEFEE    Male              0      No        Yes       0   \n",
       "634   1371-DWPAZ  Female              0     Yes        Yes       0   \n",
       "2771  3213-VVOLG    Male              0     Yes        Yes       0   \n",
       "3086  2923-ARZLG    Male              0     Yes        Yes       0   \n",
       "3255  7644-OMVMY    Male              0     Yes        Yes       0   \n",
       "4326  5709-LVOEQ  Female              0     Yes        Yes       0   \n",
       "5375  3115-CZMZD    Male              0      No        Yes       0   \n",
       "5382  2520-SGTTA  Female              0     Yes        Yes       0   \n",
       "5695  4472-LVYGI  Female              0     Yes        Yes       0   \n",
       "5951  4367-NUYAO    Male              0     Yes        Yes       0   \n",
       "\n",
       "     PhoneService     MultipleLines InternetService       OnlineSecurity  ...  \\\n",
       "356           Yes               Yes             DSL                  Yes  ...   \n",
       "634            No  No phone service             DSL                  Yes  ...   \n",
       "2771          Yes               Yes              No  No internet service  ...   \n",
       "3086          Yes                No              No  No internet service  ...   \n",
       "3255          Yes                No              No  No internet service  ...   \n",
       "4326          Yes                No             DSL                  Yes  ...   \n",
       "5375          Yes                No              No  No internet service  ...   \n",
       "5382          Yes                No              No  No internet service  ...   \n",
       "5695           No  No phone service             DSL                  Yes  ...   \n",
       "5951          Yes               Yes              No  No internet service  ...   \n",
       "\n",
       "         DeviceProtection          TechSupport          StreamingTV  \\\n",
       "356                    No                  Yes                   No   \n",
       "634                   Yes                  Yes                  Yes   \n",
       "2771  No internet service  No internet service  No internet service   \n",
       "3086  No internet service  No internet service  No internet service   \n",
       "3255  No internet service  No internet service  No internet service   \n",
       "4326                  Yes                   No                  Yes   \n",
       "5375  No internet service  No internet service  No internet service   \n",
       "5382  No internet service  No internet service  No internet service   \n",
       "5695                  Yes                  Yes                  Yes   \n",
       "5951  No internet service  No internet service  No internet service   \n",
       "\n",
       "          StreamingMovies  Contract PaperlessBilling  \\\n",
       "356                    No  Two year              Yes   \n",
       "634                    No  Two year               No   \n",
       "2771  No internet service  Two year               No   \n",
       "3086  No internet service  One year              Yes   \n",
       "3255  No internet service  Two year               No   \n",
       "4326                  Yes  Two year               No   \n",
       "5375  No internet service  Two year               No   \n",
       "5382  No internet service  Two year               No   \n",
       "5695                   No  Two year              Yes   \n",
       "5951  No internet service  Two year               No   \n",
       "\n",
       "                  PaymentMethod MonthlyCharges  TotalCharges  Churn  \n",
       "356   Bank transfer (automatic)          61.90           0.0     No  \n",
       "634     Credit card (automatic)          56.05           0.0     No  \n",
       "2771               Mailed check          25.35           0.0     No  \n",
       "3086               Mailed check          19.70           0.0     No  \n",
       "3255               Mailed check          19.85           0.0     No  \n",
       "4326               Mailed check          80.85           0.0     No  \n",
       "5375               Mailed check          20.25           0.0     No  \n",
       "5382               Mailed check          20.00           0.0     No  \n",
       "5695  Bank transfer (automatic)          52.55           0.0     No  \n",
       "5951               Mailed check          25.75           0.0     No  \n",
       "\n",
       "[10 rows x 21 columns]"
      ]
     },
     "execution_count": 7,
     "metadata": {},
     "output_type": "execute_result"
    }
   ],
   "source": [
    "df[df.TotalCharges == 0]"
   ]
  },
  {
   "cell_type": "markdown",
   "metadata": {},
   "source": [
    "Получается, что пустые строки в 'TotalCharges' соответствуют новым пользователям, которые пользуются услугами компании не более месяца и еще не успели совершить первый платеж."
   ]
  },
  {
   "cell_type": "code",
   "execution_count": 8,
   "metadata": {},
   "outputs": [
    {
     "data": {
      "text/html": [
       "<div>\n",
       "<style scoped>\n",
       "    .dataframe tbody tr th:only-of-type {\n",
       "        vertical-align: middle;\n",
       "    }\n",
       "\n",
       "    .dataframe tbody tr th {\n",
       "        vertical-align: top;\n",
       "    }\n",
       "\n",
       "    .dataframe thead th {\n",
       "        text-align: right;\n",
       "    }\n",
       "</style>\n",
       "<table border=\"1\" class=\"dataframe\">\n",
       "  <thead>\n",
       "    <tr style=\"text-align: right;\">\n",
       "      <th></th>\n",
       "      <th>count</th>\n",
       "      <th>mean</th>\n",
       "      <th>std</th>\n",
       "      <th>min</th>\n",
       "      <th>25%</th>\n",
       "      <th>50%</th>\n",
       "      <th>75%</th>\n",
       "      <th>max</th>\n",
       "    </tr>\n",
       "  </thead>\n",
       "  <tbody>\n",
       "    <tr>\n",
       "      <th>SeniorCitizen</th>\n",
       "      <td>5986.0</td>\n",
       "      <td>0.161377</td>\n",
       "      <td>0.367909</td>\n",
       "      <td>0.00</td>\n",
       "      <td>0.0000</td>\n",
       "      <td>0.000</td>\n",
       "      <td>0.0</td>\n",
       "      <td>1.00</td>\n",
       "    </tr>\n",
       "    <tr>\n",
       "      <th>tenure</th>\n",
       "      <td>5986.0</td>\n",
       "      <td>32.468760</td>\n",
       "      <td>24.516391</td>\n",
       "      <td>0.00</td>\n",
       "      <td>9.0000</td>\n",
       "      <td>29.000</td>\n",
       "      <td>56.0</td>\n",
       "      <td>72.00</td>\n",
       "    </tr>\n",
       "    <tr>\n",
       "      <th>MonthlyCharges</th>\n",
       "      <td>5986.0</td>\n",
       "      <td>64.802213</td>\n",
       "      <td>30.114702</td>\n",
       "      <td>18.25</td>\n",
       "      <td>35.6500</td>\n",
       "      <td>70.400</td>\n",
       "      <td>89.9</td>\n",
       "      <td>118.75</td>\n",
       "    </tr>\n",
       "    <tr>\n",
       "      <th>TotalCharges</th>\n",
       "      <td>5986.0</td>\n",
       "      <td>2294.221559</td>\n",
       "      <td>2274.164124</td>\n",
       "      <td>0.00</td>\n",
       "      <td>401.5875</td>\n",
       "      <td>1408.575</td>\n",
       "      <td>3841.5</td>\n",
       "      <td>8684.80</td>\n",
       "    </tr>\n",
       "  </tbody>\n",
       "</table>\n",
       "</div>"
      ],
      "text/plain": [
       "                 count         mean          std    min       25%       50%  \\\n",
       "SeniorCitizen   5986.0     0.161377     0.367909   0.00    0.0000     0.000   \n",
       "tenure          5986.0    32.468760    24.516391   0.00    9.0000    29.000   \n",
       "MonthlyCharges  5986.0    64.802213    30.114702  18.25   35.6500    70.400   \n",
       "TotalCharges    5986.0  2294.221559  2274.164124   0.00  401.5875  1408.575   \n",
       "\n",
       "                   75%      max  \n",
       "SeniorCitizen      0.0     1.00  \n",
       "tenure            56.0    72.00  \n",
       "MonthlyCharges    89.9   118.75  \n",
       "TotalCharges    3841.5  8684.80  "
      ]
     },
     "execution_count": 8,
     "metadata": {},
     "output_type": "execute_result"
    }
   ],
   "source": [
    "# Сводная статистика по количественным признакам\n",
    "\n",
    "df.describe().transpose()"
   ]
  },
  {
   "cell_type": "markdown",
   "metadata": {},
   "source": [
    "Итак, данные содержат три количественных признака: 'tenure', 'MonthlyCharges' и 'TotalCharges' (считаем, что 'SeniorCitizen' попал сюда по ошибке). "
   ]
  },
  {
   "cell_type": "code",
   "execution_count": 9,
   "metadata": {},
   "outputs": [
    {
     "data": {
      "text/html": [
       "<div>\n",
       "<style scoped>\n",
       "    .dataframe tbody tr th:only-of-type {\n",
       "        vertical-align: middle;\n",
       "    }\n",
       "\n",
       "    .dataframe tbody tr th {\n",
       "        vertical-align: top;\n",
       "    }\n",
       "\n",
       "    .dataframe thead th {\n",
       "        text-align: right;\n",
       "    }\n",
       "</style>\n",
       "<table border=\"1\" class=\"dataframe\">\n",
       "  <thead>\n",
       "    <tr style=\"text-align: right;\">\n",
       "      <th></th>\n",
       "      <th>count</th>\n",
       "      <th>unique</th>\n",
       "      <th>top</th>\n",
       "      <th>freq</th>\n",
       "    </tr>\n",
       "  </thead>\n",
       "  <tbody>\n",
       "    <tr>\n",
       "      <th>customerID</th>\n",
       "      <td>5986</td>\n",
       "      <td>5986</td>\n",
       "      <td>7729-XBTWX</td>\n",
       "      <td>1</td>\n",
       "    </tr>\n",
       "    <tr>\n",
       "      <th>gender</th>\n",
       "      <td>5986</td>\n",
       "      <td>2</td>\n",
       "      <td>Male</td>\n",
       "      <td>3050</td>\n",
       "    </tr>\n",
       "    <tr>\n",
       "      <th>Partner</th>\n",
       "      <td>5986</td>\n",
       "      <td>2</td>\n",
       "      <td>No</td>\n",
       "      <td>3082</td>\n",
       "    </tr>\n",
       "    <tr>\n",
       "      <th>Dependents</th>\n",
       "      <td>5986</td>\n",
       "      <td>2</td>\n",
       "      <td>No</td>\n",
       "      <td>4195</td>\n",
       "    </tr>\n",
       "    <tr>\n",
       "      <th>PhoneService</th>\n",
       "      <td>5986</td>\n",
       "      <td>2</td>\n",
       "      <td>Yes</td>\n",
       "      <td>5396</td>\n",
       "    </tr>\n",
       "    <tr>\n",
       "      <th>MultipleLines</th>\n",
       "      <td>5986</td>\n",
       "      <td>3</td>\n",
       "      <td>No</td>\n",
       "      <td>2848</td>\n",
       "    </tr>\n",
       "    <tr>\n",
       "      <th>InternetService</th>\n",
       "      <td>5986</td>\n",
       "      <td>3</td>\n",
       "      <td>Fiber optic</td>\n",
       "      <td>2627</td>\n",
       "    </tr>\n",
       "    <tr>\n",
       "      <th>OnlineSecurity</th>\n",
       "      <td>5986</td>\n",
       "      <td>3</td>\n",
       "      <td>No</td>\n",
       "      <td>2982</td>\n",
       "    </tr>\n",
       "    <tr>\n",
       "      <th>OnlineBackup</th>\n",
       "      <td>5986</td>\n",
       "      <td>3</td>\n",
       "      <td>No</td>\n",
       "      <td>2605</td>\n",
       "    </tr>\n",
       "    <tr>\n",
       "      <th>DeviceProtection</th>\n",
       "      <td>5986</td>\n",
       "      <td>3</td>\n",
       "      <td>No</td>\n",
       "      <td>2640</td>\n",
       "    </tr>\n",
       "    <tr>\n",
       "      <th>TechSupport</th>\n",
       "      <td>5986</td>\n",
       "      <td>3</td>\n",
       "      <td>No</td>\n",
       "      <td>2960</td>\n",
       "    </tr>\n",
       "    <tr>\n",
       "      <th>StreamingTV</th>\n",
       "      <td>5986</td>\n",
       "      <td>3</td>\n",
       "      <td>No</td>\n",
       "      <td>2389</td>\n",
       "    </tr>\n",
       "    <tr>\n",
       "      <th>StreamingMovies</th>\n",
       "      <td>5986</td>\n",
       "      <td>3</td>\n",
       "      <td>No</td>\n",
       "      <td>2356</td>\n",
       "    </tr>\n",
       "    <tr>\n",
       "      <th>Contract</th>\n",
       "      <td>5986</td>\n",
       "      <td>3</td>\n",
       "      <td>Month-to-month</td>\n",
       "      <td>3269</td>\n",
       "    </tr>\n",
       "    <tr>\n",
       "      <th>PaperlessBilling</th>\n",
       "      <td>5986</td>\n",
       "      <td>2</td>\n",
       "      <td>Yes</td>\n",
       "      <td>3528</td>\n",
       "    </tr>\n",
       "    <tr>\n",
       "      <th>PaymentMethod</th>\n",
       "      <td>5986</td>\n",
       "      <td>4</td>\n",
       "      <td>Electronic check</td>\n",
       "      <td>2006</td>\n",
       "    </tr>\n",
       "    <tr>\n",
       "      <th>Churn</th>\n",
       "      <td>5986</td>\n",
       "      <td>2</td>\n",
       "      <td>No</td>\n",
       "      <td>4399</td>\n",
       "    </tr>\n",
       "  </tbody>\n",
       "</table>\n",
       "</div>"
      ],
      "text/plain": [
       "                 count unique               top  freq\n",
       "customerID        5986   5986        7729-XBTWX     1\n",
       "gender            5986      2              Male  3050\n",
       "Partner           5986      2                No  3082\n",
       "Dependents        5986      2                No  4195\n",
       "PhoneService      5986      2               Yes  5396\n",
       "MultipleLines     5986      3                No  2848\n",
       "InternetService   5986      3       Fiber optic  2627\n",
       "OnlineSecurity    5986      3                No  2982\n",
       "OnlineBackup      5986      3                No  2605\n",
       "DeviceProtection  5986      3                No  2640\n",
       "TechSupport       5986      3                No  2960\n",
       "StreamingTV       5986      3                No  2389\n",
       "StreamingMovies   5986      3                No  2356\n",
       "Contract          5986      3    Month-to-month  3269\n",
       "PaperlessBilling  5986      2               Yes  3528\n",
       "PaymentMethod     5986      4  Electronic check  2006\n",
       "Churn             5986      2                No  4399"
      ]
     },
     "execution_count": 9,
     "metadata": {},
     "output_type": "execute_result"
    }
   ],
   "source": [
    "# Сводная статистика по категориальным признакам\n",
    "\n",
    "df.describe(include=np.object).transpose()"
   ]
  },
  {
   "cell_type": "markdown",
   "metadata": {
    "cell_style": "center"
   },
   "source": [
    "Из статистики по оставшимся признакам видно, что бОльшая часть признаков содержит по три уникальных значения, также есть и бинарные признаки, а признак 'PaymentMethod' принимает 4 значения. Кроме этого получили портрет среднестатистического клиента компании."
   ]
  },
  {
   "cell_type": "markdown",
   "metadata": {
    "id": "TDUhZEKyVYSN"
   },
   "source": [
    "# 2. Исследование зависимостей и формулирование гипотез"
   ]
  },
  {
   "cell_type": "code",
   "execution_count": 10,
   "metadata": {
    "id": "lbekxt4hVYSQ"
   },
   "outputs": [
    {
     "data": {
      "text/html": [
       "<div>\n",
       "<style scoped>\n",
       "    .dataframe tbody tr th:only-of-type {\n",
       "        vertical-align: middle;\n",
       "    }\n",
       "\n",
       "    .dataframe tbody tr th {\n",
       "        vertical-align: top;\n",
       "    }\n",
       "\n",
       "    .dataframe thead th {\n",
       "        text-align: right;\n",
       "    }\n",
       "</style>\n",
       "<table border=\"1\" class=\"dataframe\">\n",
       "  <thead>\n",
       "    <tr style=\"text-align: right;\">\n",
       "      <th></th>\n",
       "      <th>tenure</th>\n",
       "      <th>MonthlyCharges</th>\n",
       "      <th>TotalCharges</th>\n",
       "    </tr>\n",
       "  </thead>\n",
       "  <tbody>\n",
       "    <tr>\n",
       "      <th>tenure</th>\n",
       "      <td>1.000000</td>\n",
       "      <td>0.256983</td>\n",
       "      <td>0.827756</td>\n",
       "    </tr>\n",
       "    <tr>\n",
       "      <th>MonthlyCharges</th>\n",
       "      <td>0.256983</td>\n",
       "      <td>1.000000</td>\n",
       "      <td>0.656762</td>\n",
       "    </tr>\n",
       "    <tr>\n",
       "      <th>TotalCharges</th>\n",
       "      <td>0.827756</td>\n",
       "      <td>0.656762</td>\n",
       "      <td>1.000000</td>\n",
       "    </tr>\n",
       "  </tbody>\n",
       "</table>\n",
       "</div>"
      ],
      "text/plain": [
       "                  tenure  MonthlyCharges  TotalCharges\n",
       "tenure          1.000000        0.256983      0.827756\n",
       "MonthlyCharges  0.256983        1.000000      0.656762\n",
       "TotalCharges    0.827756        0.656762      1.000000"
      ]
     },
     "execution_count": 10,
     "metadata": {},
     "output_type": "execute_result"
    }
   ],
   "source": [
    "# Количественные признаки\n",
    "\n",
    "num_col = ['tenure', 'MonthlyCharges', 'TotalCharges']\n",
    "\n",
    "# Матрица корреляций\n",
    "\n",
    "df[num_col].corr()"
   ]
  },
  {
   "cell_type": "markdown",
   "metadata": {},
   "source": [
    "Вполне ожидаемо, что признак 'TotalCharges' сильно скоррелирован с признаком 'tenure'. Собственно говоря, общая сумма должна быть равна произведению суммы оплаты за месяц на количество месяцев. Посмотрим на распределения значений количественных признаков."
   ]
  },
  {
   "cell_type": "code",
   "execution_count": 11,
   "metadata": {},
   "outputs": [
    {
     "data": {
      "image/png": "[encoded data removed]",
      "text/plain": [
       "<Figure size 1224x432 with 3 Axes>"
      ]
     },
     "metadata": {
      "needs_background": "light"
     },
     "output_type": "display_data"
    }
   ],
   "source": [
    "_, axs = plt.subplots(figsize=(17, 6), nrows=1, ncols = len(num_col))\n",
    "\n",
    "for col, ax in zip(num_col, axs):\n",
    "    sns.histplot(data=df, hue='Churn', x=col, ax=ax, bins=20)\n",
    "    \n",
    "plt.show()"
   ]
  },
  {
   "cell_type": "markdown",
   "metadata": {},
   "source": [
    "Из гистограмм можно сделать следующие выводы. Большинство клиентов в нашей выборке пользуются услугами компании примерно 2 - 3 месяца. На этот же период приходится и  максимум ушедших клиентов. Второе пиковое значение - в районе 70 месяцев. Здесь уже подавляющее большинство - это лояльные клиенты. Данных за остальные периоды (между пиками) меньше, но в целом доля ушедших клиентов уменьшается с увеличением количества месяцов пользования услугами компании. Примерно до 3-го месяца количество ушедших клиентов превышает количество лояльных, а примерно до 15-го месяца доля оттока составляет более 50%.\n",
    "В разрезе месячной оплаты можно сказать, что для подавляющего большинства клиентов оплата за месяц составляет около 20, а наибольшая доля ушедших клиентов приходится на значения примерно от 70 до 110.\n",
    "Последний признак зависит от первых двух, количество лояльных и нелояльных клиентов уменьшается с увеличением общей суммы."
   ]
  },
  {
   "cell_type": "markdown",
   "metadata": {},
   "source": [
    "Посмотрим теперь на категориальные признаки."
   ]
  },
  {
   "cell_type": "code",
   "execution_count": 12,
   "metadata": {},
   "outputs": [],
   "source": [
    "# Бинарные признаки\n",
    "\n",
    "bin_col = [col for col in df.columns if df[col].nunique() == 2 and col != 'Churn']\n",
    "\n",
    "# Остальные категориальные признаки (без 'customerID' и целевого 'Churn')\n",
    "\n",
    "cat_col = list(set(df.columns) - set(num_col) - set(bin_col) - set(('customerID', 'Churn')))"
   ]
  },
  {
   "cell_type": "code",
   "execution_count": 13,
   "metadata": {},
   "outputs": [],
   "source": [
    "def cat_plot_helper(columns, data=df):\n",
    "    \n",
    "    '''\n",
    "    Строим барчарты для каждого признака в разрезе влияния на целевой\n",
    "    и возвращаем информацию о степени этого влияния\n",
    "    '''\n",
    "    \n",
    "    _, axs = plt.subplots(figsize=(10, 5 * len(columns)), nrows=len(columns), ncols = 1)\n",
    "\n",
    "    importance_level = {}\n",
    "    for col, ax in zip(columns, axs):\n",
    "        tmp = data.assign(dummy=1).groupby([col, 'Churn'])['dummy'].count()\\\n",
    "                             .groupby(level=0).apply(lambda x: x * 100 / x.sum()).unstack()\n",
    "\n",
    "        plot = tmp.plot.barh(fontsize=12, stacked=True,\n",
    "                    title=col, ax=ax)\n",
    "        plot.title.set_size(12)\n",
    "        plot.legend(loc=1, bbox_to_anchor=(1.2, 1), fontsize=12)\n",
    "        plot.set(ylabel=None, xlabel=None)\n",
    "        \n",
    "#         Будем считать степень влияния как разницу между максимальным процентным количеством ушедших\n",
    "#         клиентов и минимальным во всех категориях признака\n",
    "        \n",
    "        importance_level.update({col: tmp['Yes'].max() - tmp['Yes'].min()})\n",
    " \n",
    "    plt.show()\n",
    "    return importance_level"
   ]
  },
  {
   "cell_type": "code",
   "execution_count": 14,
   "metadata": {},
   "outputs": [
    {
     "data": {
      "image/png": "[encoded data removed]",
      "text/plain": [
       "<Figure size 720x2160 with 6 Axes>"
      ]
     },
     "metadata": {
      "needs_background": "light"
     },
     "output_type": "display_data"
    }
   ],
   "source": [
    "bin_importance = cat_plot_helper(bin_col)"
   ]
  },
  {
   "cell_type": "code",
   "execution_count": 15,
   "metadata": {},
   "outputs": [
    {
     "data": {
      "image/png": "[encoded data removed]",
      "text/plain": [
       "<Figure size 720x3600 with 10 Axes>"
      ]
     },
     "metadata": {
      "needs_background": "light"
     },
     "output_type": "display_data"
    }
   ],
   "source": [
    "cat_importance = cat_plot_helper(cat_col)"
   ]
  },
  {
   "cell_type": "markdown",
   "metadata": {},
   "source": [
    "Из графиков видно, что признаки 'gender' и 'PhoneService' почти не оказывают влияние на отток клиентов. Доля ушедшых клиентов в этих признаках почти поровну распределяется по всем категориям. Такая же ситуация и с признаком 'MultipleLines'."
   ]
  },
  {
   "cell_type": "code",
   "execution_count": 16,
   "metadata": {},
   "outputs": [
    {
     "data": {
      "image/png": "[encoded data removed]",
      "text/plain": [
       "<Figure size 864x576 with 1 Axes>"
      ]
     },
     "metadata": {
      "needs_background": "light"
     },
     "output_type": "display_data"
    }
   ],
   "source": [
    "# Обобщаем данные о степени влияния категориальных признаков и визуализируем\n",
    "\n",
    "cat_importance.update(bin_importance)\n",
    "importance = pd.Series(cat_importance, index=cat_importance.keys()).sort_values(ascending=False)\n",
    "\n",
    "_, ax = plt.subplots(figsize=(12, 8))\n",
    "sns.despine(left=False, bottom=False, right=True)\n",
    "\n",
    "sns.barplot(\n",
    "            y=importance.index,\n",
    "            x=importance.values,\n",
    "            alpha=0.5,\n",
    "            dodge=False,\n",
    "            color='blue',\n",
    "            ax=ax).set(ylabel=None, xlabel=None)\n",
    "\n",
    "ax.axvline(x=importance.median(), color='black', label='Median', linewidth=0.9, linestyle='-')\n",
    "\n",
    "ax.set_title(\"Степень влияния категориальных признаков на отток клиентов\", fontsize=14)\n",
    "ax.legend(loc=1, bbox_to_anchor=(1.2, 1), fontsize=12)\n",
    "ax.tick_params(labelsize=12)\n",
    "\n",
    "plt.show()"
   ]
  },
  {
   "cell_type": "markdown",
   "metadata": {},
   "source": [
    "Можно сделать вывод, что признак 'Contract' лучше всего 'разделяет' клиентов на лояльных и нелояльных. Также высокую степень влияния имеют признаки, связанные с интернет-соединением и методом оплаты услуг. Меньше всего на отток влияют пол клиента и наличие информации об услугах телефонной связи."
   ]
  },
  {
   "cell_type": "markdown",
   "metadata": {},
   "source": [
    "Очевидно, что признаки не независимы имеют определенную взаимосвязь друг с другом. Посмотрим на явно связанные признаки 'PhoneService' и 'MultipleLines' "
   ]
  },
  {
   "cell_type": "code",
   "execution_count": 17,
   "metadata": {},
   "outputs": [
    {
     "data": {
      "text/html": [
       "<div>\n",
       "<style scoped>\n",
       "    .dataframe tbody tr th:only-of-type {\n",
       "        vertical-align: middle;\n",
       "    }\n",
       "\n",
       "    .dataframe tbody tr th {\n",
       "        vertical-align: top;\n",
       "    }\n",
       "\n",
       "    .dataframe thead th {\n",
       "        text-align: right;\n",
       "    }\n",
       "</style>\n",
       "<table border=\"1\" class=\"dataframe\">\n",
       "  <thead>\n",
       "    <tr style=\"text-align: right;\">\n",
       "      <th>MultipleLines</th>\n",
       "      <th>No</th>\n",
       "      <th>No phone service</th>\n",
       "      <th>Yes</th>\n",
       "    </tr>\n",
       "    <tr>\n",
       "      <th>PhoneService</th>\n",
       "      <th></th>\n",
       "      <th></th>\n",
       "      <th></th>\n",
       "    </tr>\n",
       "  </thead>\n",
       "  <tbody>\n",
       "    <tr>\n",
       "      <th>No</th>\n",
       "      <td>0</td>\n",
       "      <td>590</td>\n",
       "      <td>0</td>\n",
       "    </tr>\n",
       "    <tr>\n",
       "      <th>Yes</th>\n",
       "      <td>2848</td>\n",
       "      <td>0</td>\n",
       "      <td>2548</td>\n",
       "    </tr>\n",
       "  </tbody>\n",
       "</table>\n",
       "</div>"
      ],
      "text/plain": [
       "MultipleLines    No  No phone service   Yes\n",
       "PhoneService                               \n",
       "No                0               590     0\n",
       "Yes            2848                 0  2548"
      ]
     },
     "execution_count": 17,
     "metadata": {},
     "output_type": "execute_result"
    }
   ],
   "source": [
    "pd.crosstab(df['PhoneService'], df['MultipleLines'])"
   ]
  },
  {
   "cell_type": "markdown",
   "metadata": {},
   "source": [
    "Очевидно, что значения 'No' в 'PhoneService' и 'No phone service' в 'MultipleLines' соответствуют одним и тем же людям. Более того, один признак является следствием другого."
   ]
  },
  {
   "cell_type": "code",
   "execution_count": 18,
   "metadata": {},
   "outputs": [
    {
     "data": {
      "text/plain": [
       "array([ True])"
      ]
     },
     "execution_count": 18,
     "metadata": {},
     "output_type": "execute_result"
    }
   ],
   "source": [
    "# Проверим это\n",
    "\n",
    "((df['PhoneService'] == 'No') == (df['MultipleLines'] == 'No phone service')).unique()"
   ]
  },
  {
   "cell_type": "code",
   "execution_count": 19,
   "metadata": {},
   "outputs": [
    {
     "data": {
      "text/plain": [
       "True"
      ]
     },
     "execution_count": 19,
     "metadata": {},
     "output_type": "execute_result"
    }
   ],
   "source": [
    "df[df['PhoneService'] == 'Yes'].shape[0] == df[df['MultipleLines'] == 'Yes'].shape[0] +\\\n",
    "                                            df[df['MultipleLines'] == 'No'].shape[0]"
   ]
  },
  {
   "cell_type": "markdown",
   "metadata": {},
   "source": [
    "Похожая ситуация с признаками 'InternetService', 'OnlineSecurity', 'OnlineBackup', 'DeviceProtection', 'TechSupport', 'StreamingTV' и 'StreamingMovies'."
   ]
  },
  {
   "cell_type": "code",
   "execution_count": 20,
   "metadata": {},
   "outputs": [
    {
     "data": {
      "text/plain": [
       "array([ True])"
      ]
     },
     "execution_count": 20,
     "metadata": {},
     "output_type": "execute_result"
    }
   ],
   "source": [
    "# Например\n",
    "\n",
    "((df['InternetService'] == 'No') == (df['StreamingTV'] == 'No internet service')).unique()"
   ]
  },
  {
   "cell_type": "markdown",
   "metadata": {
    "id": "YnZrI40dVYSZ"
   },
   "source": [
    "# 3. Построение моделей для прогнозирования оттока"
   ]
  },
  {
   "cell_type": "markdown",
   "metadata": {},
   "source": [
    "Перед построением моделей данные необходимо обработать. Сначала предлагаю оставить данные только по тем клиентам, которые совершили хотя бы один платеж (TotalCharges != 0). Далее из количественных признаков предлагаю оставить наименее скореллированные ('tenure' и 'MontlyCharges'), а бинарные пронумеровать значениями 0 и 1. Что касается остальных категориальных признаков, то существует несколько подходов к их обработке. Предлагаю в данной задаче разбить каждый признак по категориям с помощью pd.get_dummies и получить тем самым несколько бинарных признаков вместо одного категориального."
   ]
  },
  {
   "cell_type": "code",
   "execution_count": 21,
   "metadata": {},
   "outputs": [],
   "source": [
    "def data_transformer(data, num_col, bin_col, cat_col, target='Churn'):\n",
    "    \n",
    "    '''Преобразуем данные и возвращаем массивы x и y'''\n",
    "    \n",
    "#     Удаляем новых клиентов\n",
    "    \n",
    "    data_trimmed = data[data.TotalCharges != 0]\n",
    "    nrows = data_trimmed.shape[0] \n",
    "\n",
    "#     Преобразовываем количественные признаки\n",
    "    \n",
    "#     scaler.fit(data_trimmed[num_col])\n",
    "#     num_features = scaler.transform(data_trimmed[num_col])\n",
    "    num_features = data_trimmed[num_col].values\n",
    "\n",
    "#     Преобразовываем бинарные признаки \n",
    "    \n",
    "    for col in bin_col:\n",
    "        data_trimmed[col] = pd.factorize(data_trimmed[col])[0]\n",
    "    \n",
    "    bin_features = data_trimmed[bin_col].values\n",
    "    \n",
    "#     Преобразуем целевой признак\n",
    "    \n",
    "    data_trimmed[target] = data_trimmed[target].map({'Yes': 1, 'No': 0})\n",
    "    \n",
    "#     Преобразовываем категориальные признаки и удаляем дублирующие друг друга\n",
    " \n",
    "    cat_features = pd.get_dummies(data_trimmed[cat_col])\n",
    "    for col in cat_features.columns:\n",
    "        if col.endswith('No internet service'):\n",
    "            cat_features.drop(col, axis=1, inplace=True)\n",
    "    \n",
    "    cat_features = cat_features.values\n",
    "    \n",
    "#     Собираем все вместе\n",
    "\n",
    "    x = np.hstack([num_features.reshape(nrows, -1), bin_features.reshape(nrows, -1), cat_features.reshape(nrows,-1)])\n",
    "    y = data_trimmed[target].values\n",
    "    \n",
    "    return x, y"
   ]
  },
  {
   "cell_type": "code",
   "execution_count": 22,
   "metadata": {},
   "outputs": [],
   "source": [
    "num_col.remove('TotalCharges')\n",
    "bin_col.remove('PhoneService')    # Полностью компенсируется признаком 'MultipleLines'"
   ]
  },
  {
   "cell_type": "code",
   "execution_count": 23,
   "metadata": {},
   "outputs": [
    {
     "name": "stderr",
     "output_type": "stream",
     "text": [
      "<ipython-input-21-581dc9315328>:19: SettingWithCopyWarning: \n",
      "A value is trying to be set on a copy of a slice from a DataFrame.\n",
      "Try using .loc[row_indexer,col_indexer] = value instead\n",
      "\n",
      "See the caveats in the documentation: https://pandas.pydata.org/pandas-docs/stable/user_guide/indexing.html#returning-a-view-versus-a-copy\n",
      "  data_trimmed[col] = pd.factorize(data_trimmed[col])[0]\n",
      "<ipython-input-21-581dc9315328>:25: SettingWithCopyWarning: \n",
      "A value is trying to be set on a copy of a slice from a DataFrame.\n",
      "Try using .loc[row_indexer,col_indexer] = value instead\n",
      "\n",
      "See the caveats in the documentation: https://pandas.pydata.org/pandas-docs/stable/user_guide/indexing.html#returning-a-view-versus-a-copy\n",
      "  data_trimmed[target] = data_trimmed[target].map({'Yes': 1, 'No': 0})\n"
     ]
    }
   ],
   "source": [
    "x, y = data_transformer(df, num_col, bin_col, cat_col)"
   ]
  },
  {
   "cell_type": "code",
   "execution_count": 24,
   "metadata": {},
   "outputs": [
    {
     "data": {
      "text/plain": [
       "(5976, 32)"
      ]
     },
     "execution_count": 24,
     "metadata": {},
     "output_type": "execute_result"
    }
   ],
   "source": [
    "x.shape"
   ]
  },
  {
   "cell_type": "markdown",
   "metadata": {},
   "source": [
    "Окончательно имеем 32 признака. Теперь обучим несколько моделей без особой настройки параметров."
   ]
  },
  {
   "cell_type": "code",
   "execution_count": 25,
   "metadata": {},
   "outputs": [],
   "source": [
    "# Параметры базовых моделей\n",
    "\n",
    "# KNeighborsClassifier\n",
    "knn_params = {\n",
    "    'n_neighbors': 5,\n",
    "    'n_jobs': -1\n",
    "}    \n",
    "\n",
    "# DecisionTreeClassifier\n",
    "dtc_params = {\n",
    "    'max_depth': 10,\n",
    "    'random_state': 17\n",
    "}    \n",
    "\n",
    "# RandomForestClassifier\n",
    "rf_params = {\n",
    "    'n_jobs': -1,\n",
    "    'n_estimators': 100,\n",
    "    'max_depth': 10,\n",
    "    'min_samples_leaf': 1,\n",
    "    'max_features' : 5,\n",
    "    'verbose': 0,\n",
    "    'random_state': 17\n",
    "}\n",
    "\n",
    "# SVC\n",
    "svc_params = {\n",
    "    'kernel': 'linear',\n",
    "    'C': 0.025,\n",
    "    'probability': True,\n",
    "    'random_state': 17\n",
    "}\n",
    "\n",
    "# LogisticRegression\n",
    "lr_params = {\n",
    "    'max_iter': 100,\n",
    "    'n_jobs': -1,\n",
    "    'C': 1,\n",
    "    'random_state': 17\n",
    "}\n",
    "\n",
    "# XGBClassifier\n",
    "gb_params = {\n",
    "    'n_estimators': 100,\n",
    "    'max_depth': 2,\n",
    "    'random_state': 17,\n",
    "    'eval_metric': 'logloss',\n",
    "    'use_label_encoder': False\n",
    "}"
   ]
  },
  {
   "cell_type": "code",
   "execution_count": 26,
   "metadata": {},
   "outputs": [],
   "source": [
    "# Создаем модели\n",
    "\n",
    "knn = KNeighborsClassifier(**knn_params)\n",
    "dtc = DecisionTreeClassifier(**dtc_params)\n",
    "rf = RandomForestClassifier(**rf_params)\n",
    "svc = SVC(**svc_params)\n",
    "lr = LogisticRegression(**lr_params)\n",
    "gb = XGBClassifier(**gb_params)\n",
    "\n",
    "names = [\n",
    "    'KNeighborsClassifier', 'DecisionTreeClassifier', 'RandomForestClassifier',\n",
    "    'SVC', 'LogisticRegression', 'XGBClassifier'\n",
    "]\n",
    "\n",
    "models = [knn, dtc, rf, svc, lr, gb]\n",
    "\n",
    "\n",
    "params = {name: dct for name, dct in zip(names, [knn_params, dtc_params, rf_params, svc_params, lr_params, gb_params])}"
   ]
  },
  {
   "cell_type": "code",
   "execution_count": 28,
   "metadata": {},
   "outputs": [],
   "source": [
    "# Обучаем модели, разбив предварительно данные на тренировочную и тестовую выборки\n",
    "\n",
    "x_train, x_test, y_train, y_test = train_test_split(x, y, test_size=.3, stratify=y, random_state=17)\n",
    "\n",
    "basic_models = {name: model.fit(x_train, y_train) for name, model in zip(names, models)}"
   ]
  },
  {
   "cell_type": "markdown",
   "metadata": {},
   "source": [
    "Вывыдем теперь информацию по метрикам. Для начала следует оценить в целом долю правильных ответов (accuracy). Также, согласно условию задачи, модели должны достаточно точно выявлять ушедших клиентов, но при этом не записывая лояльных клиентов в ушедшие. Поэтому посмотрим еще на метрики recall и precision."
   ]
  },
  {
   "cell_type": "code",
   "execution_count": 29,
   "metadata": {},
   "outputs": [],
   "source": [
    "def print_metrics(model, data=x_test, true_values=y_test):\n",
    "    \n",
    "    \"\"\"Сводная информация по метрикам\"\"\"\n",
    "    \n",
    "    print(f'Доля правильных ответов: {accuracy_score(true_values, model.predict(data)):.3f}')\n",
    "    print(f'Точность: {precision_score(true_values, model.predict(data)):.3f}')\n",
    "    print(f'Полнота: {recall_score(true_values, model.predict(data)):.3f}')\n",
    "       "
   ]
  },
  {
   "cell_type": "code",
   "execution_count": 30,
   "metadata": {},
   "outputs": [
    {
     "name": "stdout",
     "output_type": "stream",
     "text": [
      "KNeighborsClassifier\n",
      "Доля правильных ответов: 0.775\n",
      "Точность: 0.584\n",
      "Полнота: 0.525\n",
      "\n",
      "DecisionTreeClassifier\n",
      "Доля правильных ответов: 0.762\n",
      "Точность: 0.553\n",
      "Полнота: 0.538\n",
      "\n",
      "RandomForestClassifier\n",
      "Доля правильных ответов: 0.799\n",
      "Точность: 0.655\n",
      "Полнота: 0.511\n",
      "\n",
      "SVC\n",
      "Доля правильных ответов: 0.806\n",
      "Точность: 0.671\n",
      "Полнота: 0.527\n",
      "\n",
      "LogisticRegression\n",
      "Доля правильных ответов: 0.799\n",
      "Точность: 0.650\n",
      "Полнота: 0.527\n",
      "\n",
      "XGBClassifier\n",
      "Доля правильных ответов: 0.790\n",
      "Точность: 0.626\n",
      "Полнота: 0.517\n",
      "\n"
     ]
    }
   ],
   "source": [
    "for name, model in basic_models.items():\n",
    "    print(name)\n",
    "    print_metrics(model)\n",
    "    print()"
   ]
  },
  {
   "cell_type": "markdown",
   "metadata": {
    "id": "uyDpeHkTVYSf"
   },
   "source": [
    "# 4. Сравнение качества моделей "
   ]
  },
  {
   "cell_type": "markdown",
   "metadata": {},
   "source": [
    "Результаты отличаются не очень сильно. Лучшие значения accuracy соответствуют моделям RandomForest, LogisticRegression и SVC. Самые низкие показатели accuracy у моделей KNeighbors и DecisionTree. Посмотрим теперь как распределены предсказания наших моделей."
   ]
  },
  {
   "cell_type": "code",
   "execution_count": 31,
   "metadata": {},
   "outputs": [],
   "source": [
    "def pred_distribution(models, data, true_values, cls=1):\n",
    "    \n",
    "    '''Cтроит гистограммы распределения признака \"tenure\" в соответствии с указанным классом'''\n",
    "    \n",
    "#     Получаем значения признака 'tenure'\n",
    "\n",
    "    feature = data[:, 0]\n",
    "    \n",
    "#     Получаем предсказания и истинные значения указанного класса\n",
    "\n",
    "    pred = {name: feature[model.predict(data) == cls] for name, model in models.items()} \n",
    "    true = {'true': feature[true_values == cls]}\n",
    "    pred.update(true)\n",
    "    results = pd.Series(pred, index=pred.keys()).reset_index().explode(0)\n",
    "    \n",
    "#     Строим графики\n",
    "    \n",
    "    _, ax = plt.subplots(figsize=(15, 12))\n",
    "    sns.histplot(data=results, hue='index', x=results[0], ax=ax,\n",
    "                 bins=20, multiple='dodge', edgecolor='black', linewidth=.8)\n",
    "    \n",
    "    ax.set_xticks([results[0].min() + i * results[0].max() / 20 for i in range(21)])\n",
    "    ax.set_xlabel('feature')\n",
    "    plt.show() "
   ]
  },
  {
   "cell_type": "code",
   "execution_count": 32,
   "metadata": {},
   "outputs": [
    {
     "data": {
      "image/png": "[encoded data removed]",
      "text/plain": [
       "<Figure size 1080x864 with 1 Axes>"
      ]
     },
     "metadata": {
      "needs_background": "light"
     },
     "output_type": "display_data"
    }
   ],
   "source": [
    "# Тренировочная выборка (класс 1)\n",
    "\n",
    "pred_distribution(basic_models, x_train, y_train)"
   ]
  },
  {
   "cell_type": "code",
   "execution_count": 33,
   "metadata": {},
   "outputs": [
    {
     "data": {
      "image/png": "[encoded data removed]",
      "text/plain": [
       "<Figure size 1080x864 with 1 Axes>"
      ]
     },
     "metadata": {
      "needs_background": "light"
     },
     "output_type": "display_data"
    }
   ],
   "source": [
    "# Тестовая выборка (класс 1)\n",
    "\n",
    "pred_distribution(basic_models, x_test, y_test)"
   ]
  },
  {
   "cell_type": "markdown",
   "metadata": {},
   "source": [
    "Из этих графиков можно сделать следующие выводы. Во-первых распределения ответов на тренировочной и тестовой выборках похожи друг на друга, что является хорошим знаком. Также, в отличие от числовых метрик, мы можем наблюдать, как модели работают во всем диапазоне 'feature'. С увеличением значений 'feature' доля правильно предсказанных объектов класса 1 снижается для всех моделей. Некоторые модели ('SVC', 'RandomForest') оказались 'нечувствительными' к большим значениям 'tenure'."
   ]
  },
  {
   "cell_type": "markdown",
   "metadata": {},
   "source": [
    "Попробуем теперь настроить гиперпараметры моделей. Для логистической регрессии создадим спецальный  класс."
   ]
  },
  {
   "cell_type": "code",
   "execution_count": 34,
   "metadata": {},
   "outputs": [],
   "source": [
    "skf = StratifiedKFold(n_splits=5, shuffle=True, random_state=17)\n",
    "\n",
    "# LogisticRegression\n",
    "\n",
    "Cs = np.logspace(-3, 1, num=500)\n",
    "lr_params.pop('C')\n",
    "\n",
    "lrCV = LogisticRegressionCV(**lr_params, Cs=Cs, cv=skf, scoring='roc_auc').fit(x_train, y_train)\n",
    "\n",
    "lr_params['C'] = lrCV.C_"
   ]
  },
  {
   "cell_type": "code",
   "execution_count": 35,
   "metadata": {},
   "outputs": [],
   "source": [
    "# KNeighborsClassifier\n",
    "knn_grid_params = {'n_neighbors': range(1, 35)}\n",
    "\n",
    "# DecisionTreeClassifier\n",
    "dtc_grid_params = {'max_depth': range(1, 20), 'max_features': range(1, 25)}\n",
    "\n",
    "# RandomForestClassifier\n",
    "rf_grid_params = {'n_estimators': range(10, 150, 10), 'min_samples_leaf': range(1, 10), 'max_features': range(1, 25)}\n",
    "\n",
    "# SVC\n",
    "svc_grid_params = {'C': np.arange(0.01, 0.07, 0.01)}\n",
    "\n",
    "# XGBClassifier\n",
    "gb_grid_params = {\n",
    "    'n_estimators': range(10, 100, 10),\n",
    "    'min_child_weight': range(1, 10, 1),\n",
    "    'subsample': np.arange(0.1, 1., 0.2)\n",
    "}\n",
    "\n",
    "grid_params = [knn_grid_params, dtc_grid_params, rf_grid_params, svc_grid_params, gb_grid_params]"
   ]
  },
  {
   "cell_type": "code",
   "execution_count": 36,
   "metadata": {},
   "outputs": [],
   "source": [
    "names.remove('LogisticRegression')\n",
    "models.remove(lr)\n",
    "\n",
    "grid_models = {\n",
    "    name: GridSearchCV(model, params, cv=skf).fit(x_train, y_train)\n",
    "    for name, model, params in zip(names, models, grid_params)\n",
    "}"
   ]
  },
  {
   "cell_type": "code",
   "execution_count": 37,
   "metadata": {},
   "outputs": [],
   "source": [
    "grid_models.update({'LogisticRegression': lrCV})"
   ]
  },
  {
   "cell_type": "code",
   "execution_count": 38,
   "metadata": {},
   "outputs": [
    {
     "name": "stdout",
     "output_type": "stream",
     "text": [
      "KNeighborsClassifier\n",
      "Доля правильных ответов: 0.788\n",
      "Точность: 0.652\n",
      "Полнота: 0.433\n",
      "\n",
      "DecisionTreeClassifier\n",
      "Доля правильных ответов: 0.790\n",
      "Точность: 0.696\n",
      "Полнота: 0.370\n",
      "\n",
      "RandomForestClassifier\n",
      "Доля правильных ответов: 0.810\n",
      "Точность: 0.687\n",
      "Полнота: 0.521\n",
      "\n",
      "SVC\n",
      "Доля правильных ответов: 0.808\n",
      "Точность: 0.677\n",
      "Полнота: 0.527\n",
      "\n",
      "XGBClassifier\n",
      "Доля правильных ответов: 0.803\n",
      "Точность: 0.660\n",
      "Полнота: 0.534\n",
      "\n",
      "LogisticRegression\n",
      "Доля правильных ответов: 0.799\n",
      "Точность: 0.650\n",
      "Полнота: 0.523\n",
      "\n"
     ]
    }
   ],
   "source": [
    "# Метрики моделей\n",
    "\n",
    "for name, model in grid_models.items():\n",
    "    print(name)\n",
    "    print_metrics(model)\n",
    "    print()"
   ]
  },
  {
   "cell_type": "markdown",
   "metadata": {},
   "source": [
    "Метрики немного улучшились. Лучшее значение accuracy у моделей RandomForestClassifier и SVC. Лучшее значение recall у моделей XGBClassifier и SVC."
   ]
  },
  {
   "cell_type": "code",
   "execution_count": 39,
   "metadata": {},
   "outputs": [
    {
     "name": "stdout",
     "output_type": "stream",
     "text": [
      "KNeighborsClassifier\n",
      "{'n_neighbors': 12}\n",
      "\n",
      "DecisionTreeClassifier\n",
      "{'max_depth': 3, 'max_features': 20}\n",
      "\n",
      "RandomForestClassifier\n",
      "{'max_features': 13, 'min_samples_leaf': 9, 'n_estimators': 40}\n",
      "\n",
      "SVC\n",
      "{'C': 0.03}\n",
      "\n",
      "XGBClassifier\n",
      "{'min_child_weight': 5, 'n_estimators': 30, 'subsample': 0.7000000000000001}\n",
      "\n",
      "LogisticRegression\n",
      "C = [0.12595065]\n",
      "\n"
     ]
    }
   ],
   "source": [
    "# Посмотрим на лучшие параметры\n",
    "\n",
    "for name, model in grid_models.items():\n",
    "    if name != 'LogisticRegression':\n",
    "        print(name)\n",
    "        print(model.best_params_)\n",
    "        print()\n",
    "    else:\n",
    "        print(name)\n",
    "        print('C =', model.C_)\n",
    "        print()\n"
   ]
  },
  {
   "cell_type": "markdown",
   "metadata": {},
   "source": [
    "Посмотрим на распределения ответов (класс 1)."
   ]
  },
  {
   "cell_type": "code",
   "execution_count": 40,
   "metadata": {},
   "outputs": [
    {
     "data": {
      "image/png": "[encoded data removed]",
      "text/plain": [
       "<Figure size 1080x864 with 1 Axes>"
      ]
     },
     "metadata": {
      "needs_background": "light"
     },
     "output_type": "display_data"
    }
   ],
   "source": [
    "# Тренировочная выборка\n",
    "\n",
    "pred_distribution(grid_models, x_train, y_train)"
   ]
  },
  {
   "cell_type": "code",
   "execution_count": 41,
   "metadata": {},
   "outputs": [
    {
     "data": {
      "image/png": "[encoded data removed]",
      "text/plain": [
       "<Figure size 1080x864 with 1 Axes>"
      ]
     },
     "metadata": {
      "needs_background": "light"
     },
     "output_type": "display_data"
    }
   ],
   "source": [
    "# Тестовая выборка\n",
    "\n",
    "pred_distribution(grid_models, x_test, y_test)"
   ]
  },
  {
   "cell_type": "markdown",
   "metadata": {},
   "source": [
    "Несмотря на улучшение метрик, для значений 'feature' превышающих 35 предсказания моделей немного ухудшились."
   ]
  },
  {
   "cell_type": "markdown",
   "metadata": {},
   "source": [
    "Теперь для всех моделей выведем значение метрики ROC AUC. Эту метрику можно интерпретировать как 'степень уверенности' модели в своих предсказаниях, то есть случайный объект класса 1 имеет вероятность отнесения к классу 1 выше, чем случайный объект класса 0."
   ]
  },
  {
   "cell_type": "code",
   "execution_count": 42,
   "metadata": {},
   "outputs": [
    {
     "name": "stdout",
     "output_type": "stream",
     "text": [
      "KNeighborsClassifier\n",
      "ROC AUC = 0.809\n",
      "\n",
      "DecisionTreeClassifier\n",
      "ROC AUC = 0.817\n",
      "\n",
      "RandomForestClassifier\n",
      "ROC AUC = 0.844\n",
      "\n",
      "SVC\n",
      "ROC AUC = 0.839\n",
      "\n",
      "XGBClassifier\n",
      "ROC AUC = 0.853\n",
      "\n",
      "LogisticRegression\n",
      "ROC AUC = 0.842\n",
      "\n"
     ]
    }
   ],
   "source": [
    "roc_auc_metrics = {name: roc_auc_score(y_test, model.predict_proba(x_test)[:, 1]) for name, model in grid_models.items()}\n",
    "\n",
    "for name, score in roc_auc_metrics.items():\n",
    "    print(name)\n",
    "    print(f'ROC AUC = {score:.3f}')\n",
    "    print()"
   ]
  },
  {
   "cell_type": "markdown",
   "metadata": {},
   "source": [
    "Получили, что 'XGBClassifier' имеет самое высокое значение ROC AUC. Также у этой модели высокое значение метрики recall при высокой общей доле правильных ответов."
   ]
  },
  {
   "cell_type": "code",
   "execution_count": null,
   "metadata": {},
   "outputs": [],
   "source": []
  }
 ],
 "metadata": {
  "colab": {
   "collapsed_sections": [],
   "name": "Coursework_ML.ipynb",
   "provenance": []
  },
  "kernelspec": {
   "display_name": "Python 3",
   "language": "python",
   "name": "python3"
  },
  "language_info": {
   "codemirror_mode": {
    "name": "ipython",
    "version": 3
   },
   "file_extension": ".py",
   "mimetype": "text/x-python",
   "name": "python",
   "nbconvert_exporter": "python",
   "pygments_lexer": "ipython3",
   "version": "3.8.5"
  }
 },
 "nbformat": 4,
 "nbformat_minor": 1
}
