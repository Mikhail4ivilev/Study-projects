{
 "cells": [
  {
   "cell_type": "markdown",
   "metadata": {},
   "source": [
    "# My final project (recommendation system)"
   ]
  },
  {
   "cell_type": "markdown",
   "metadata": {
    "heading_collapsed": true
   },
   "source": [
    "## Recommendation system for the online hypermarket Instacart"
   ]
  },
  {
   "cell_type": "markdown",
   "metadata": {
    "hidden": true
   },
   "source": [
    "**Task description (legend)**<br/>\n",
    "<br/>\n",
    "Hello! In this final project, the company Instacart has come to you for help in building their recommendation system. Below is a letter in which they describe what they want.<br/>\n",
    "<br/>\n",
    "Regardless of whether you buy spontaneously or plan your purchases carefully, your unique consumer behavior determines who you are. Instacart is an application for ordering and delivering groceries. It helps simplify the process of filling your fridge with your favorite products when you need them. After selecting items through the Instacart app, our employees review the order, make purchases, and deliver them from the store to the customer's home.<br/>\n",
    "<br/>\n",
    "Our Data Science team plays a huge role in organizing this user experience. Currently, we use transactional data to develop models that predict which products the user will buy again, try for the first time, or add to their cart during the session.<br/>\n",
    "<br/>\n",
    "The list of goods and products is enormous, and it can be difficult to search for something in it. Therefore, we want to help the user by showing them the products that they are most likely to want to buy. Use anonymous data about customer orders to predict which products they will order next time. We will display your predictions to customers on the main page to make the service more convenient.<br/>\n",
    "<br/>\n",
    "And if you are not only very good at creating models, but also able to deploy them in production, we have an additional request. Wrap the developed algorithm in a Python library that our backend developers can use in the future.<br/>\n",
    "<br/>\n",
    "**Technical task for the final project**<br/>\n",
    " - The final project is a competition on the Kaggle platform. [Link](https://www.kaggle.com/competitions/skillbox-recommender-system/overview).\n",
    " - You need to write reproducible code that generates a file with 10 items for each customer that they are most likely to purchase in the next transaction.\n",
    " - You can submit no more than five solutions for validation per day. In the Leaderboard tab, you can find two basic solutions:\n",
    "     - The top 10 popular products for all customers (the same as in the sample_submission.csv file).\n",
    "     - A benchmark solution that you need to beat to achieve a score of no less than satisfactory.\n",
    " - You can find the data description, file format for the response, and quality metric in the competition on Kaggle."
   ]
  },
  {
   "cell_type": "markdown",
   "metadata": {
    "hidden": true
   },
   "source": [
    "**Requirements**<br/>\n",
    "<br/>\n",
    "The project does not have strict requirements for the algorithms to be used in its implementation. Hybrid recommender systems and approaches/algorithms covered during the theoretical classes are encouraged to be used.<br/>\n",
    "<br/>\n",
    "**Enhancements and Additions to the Task**<br/>\n",
    "<br/>\n",
    "The system of generating a file with products that will be in the customer's next purchase is not always suitable for production output. Fulfill the client's additional request: wrap the developed recommendation system into a Python class with the following methods:\n",
    "- Provide a set of K most relevant products for a user by user ID.\n",
    "- Provide an array of sets of K most relevant products for users by an array of user IDs.\n",
    "- Add fresh transaction data.\n",
    "- Update/add data on product characteristics.\n",
    "- Retrain the recommendation system.<br/>\n",
    "\n",
    "When implementing the class, ensure the efficiency of the method's speed and memory usage. Try to use parallel computing where possible. The target model should be trained in no more than five hours and make predictions for all customers in no more than 15 minutes."
   ]
  },
  {
   "cell_type": "markdown",
   "metadata": {
    "hidden": true
   },
   "source": [
    "**The delivery format and evaluation are as follows:**<br/>\n",
    "<br/>\n",
    "The first step is to ensure that the solution on Kaggle receives a score higher than the \"Pass\" grade (0.20954). Solutions will be evaluated based on the MAP@10 metric. In addition to the solution, please send us the code of the developed recommendation system in GitHub/GitLab. The code must be fully executable and covered with comments. Please specify instructions for running the code in the README.<br/>\n",
    "In the code, keep all the solutions that were tested during the thesis work. This way, we can evaluate the volume and number of experiments conducted. However, please remember that more experiments are not always better!<br/>\n",
    "The pass criterion is a solution with a metric higher than the corresponding \"Pass\" benchmark (MAP@10 > 0.20954) on the Kaggle platform and the submission of reproducible solution code.<br/>\n",
    "To obtain a \"B\" grade, in addition to the \"Pass\" benchmark, you need to complete any two items from the following:\n",
    "- A hybrid approach to the recommendation system.\n",
    "- Complete all items from the \"Improvements and Additions to the Task\" section.\n",
    "- Structured code (the main logic of the code should be placed in classes/methods/functions + meaningful naming of entities and comments).\n",
    "- The quality of the model should not change depending on the seasonality.<br/>\n",
    "\n",
    "To obtain a \"A\" grade, you need to score > 0.25 + complete all the items for the \"4\" grade, except for \"Improvements and Additions to the Task.\" A significant bonus in evaluation will be the completion of the \"Improvements and Additions\" item and the correct assessment of the solution offline on cross-validation."
   ]
  },
  {
   "cell_type": "markdown",
   "metadata": {
    "heading_collapsed": true
   },
   "source": [
    "## Main stages"
   ]
  },
  {
   "cell_type": "markdown",
   "metadata": {
    "hidden": true
   },
   "source": [
    "I am going to divide this huge project into two stages:\n",
    "- `Stage 1` - come up with certain ideas for our recommendation system, ensure if they will work out and outline some pipeline for the future system.\n",
    "- `Stage 2` - wrap all ideas into more-or-less working python code.<br/>\n",
    "\n",
    "This notebook is about `Stage 1`.<br/>\n",
    "<br/>\n",
    "**Content of the notebook:**\n",
    "\n",
    "1. [**Basic presets**](#1)\n",
    "2. [**Data preparation**](#2)\n",
    "3. [**Products data analysis**](#3)\n",
    "4. [**Modeling**](#4)\n",
    "5. [**Conclusion**](#5)"
   ]
  },
  {
   "cell_type": "markdown",
   "metadata": {
    "heading_collapsed": true
   },
   "source": [
    "## Basic presets<a id='1'></a>"
   ]
  },
  {
   "cell_type": "code",
   "execution_count": 9,
   "metadata": {
    "hidden": true
   },
   "outputs": [],
   "source": [
    "# All libraries required\n",
    "\n",
    "# Data\n",
    "import pandas as pd\n",
    "import numpy as np\n",
    "\n",
    "# Visualization\n",
    "import matplotlib.pyplot as plt\n",
    "from matplotlib.backends.backend_agg import FigureCanvasAgg\n",
    "from matplotlib.transforms import Bbox\n",
    "import seaborn as sns\n",
    "palette = plt.get_cmap('Set2')\n",
    "plt.style.use('seaborn-darkgrid')\n",
    "\n",
    "# ML\n",
    "from sklearn.neighbors import NearestNeighbors\n",
    "\n",
    "from sklearn.cluster import KMeans\n",
    "\n",
    "from sklearn.decomposition import PCA\n",
    "\n",
    "from sklearn.metrics.pairwise import euclidean_distances\n",
    "from sklearn.metrics import silhouette_score\n",
    "\n",
    "# Parallel calculations\n",
    "import asyncio\n",
    "import nest_asyncio\n",
    "nest_asyncio.apply()\n",
    "asyncio.set_event_loop(asyncio.new_event_loop())\n",
    "\n",
    "# Other\n",
    "import warnings\n",
    "warnings.filterwarnings('ignore')"
   ]
  },
  {
   "cell_type": "code",
   "execution_count": 10,
   "metadata": {
    "hidden": true
   },
   "outputs": [],
   "source": [
    "# Printing some of dataframe statistics function\n",
    "\n",
    "def df_stat(data:pd.DataFrame) -> None:\n",
    "    \n",
    "    \"\"\" Prints some statistics of dataframe \"\"\"\n",
    "    \n",
    "    assert isinstance(data, pd.DataFrame), 'Wrong type of input!'\n",
    "    \n",
    "    print(f'Number of rows: {data.shape[0]}')\n",
    "    print(f'Memory usage: {data.memory_usage().sum() / 1e6:.2f} MB')\n",
    "    \n",
    "    out = data.isnull().sum().to_frame().rename(columns={0: 'Missing'}).join(\n",
    "                                                                    data.dtypes.to_frame().rename(columns={0: 'Dtype'})\n",
    "                                                                )\n",
    "    print()\n",
    "    print(out)"
   ]
  },
  {
   "cell_type": "markdown",
   "metadata": {
    "heading_collapsed": true
   },
   "source": [
    "## Data preparation<a id='2'></a>"
   ]
  },
  {
   "cell_type": "markdown",
   "metadata": {
    "hidden": true
   },
   "source": [
    "Let's have a look at the original data files."
   ]
  },
  {
   "cell_type": "code",
   "execution_count": 4,
   "metadata": {
    "hidden": true
   },
   "outputs": [
    {
     "name": "stdout",
     "output_type": "stream",
     "text": [
      "Number of rows: 49688\n",
      "Memory usage: 2.39 MB\n",
      "\n",
      "               Missing   Dtype\n",
      "product_id           0   int64\n",
      "product_name         0  object\n",
      "aisle_id             0   int64\n",
      "department_id        0   int64\n",
      "aisle                0  object\n",
      "department           0  object\n"
     ]
    },
    {
     "data": {
      "text/html": [
       "<div>\n",
       "<style scoped>\n",
       "    .dataframe tbody tr th:only-of-type {\n",
       "        vertical-align: middle;\n",
       "    }\n",
       "\n",
       "    .dataframe tbody tr th {\n",
       "        vertical-align: top;\n",
       "    }\n",
       "\n",
       "    .dataframe thead th {\n",
       "        text-align: right;\n",
       "    }\n",
       "</style>\n",
       "<table border=\"1\" class=\"dataframe\">\n",
       "  <thead>\n",
       "    <tr style=\"text-align: right;\">\n",
       "      <th></th>\n",
       "      <th>product_id</th>\n",
       "      <th>product_name</th>\n",
       "      <th>aisle_id</th>\n",
       "      <th>department_id</th>\n",
       "      <th>aisle</th>\n",
       "      <th>department</th>\n",
       "    </tr>\n",
       "  </thead>\n",
       "  <tbody>\n",
       "    <tr>\n",
       "      <th>0</th>\n",
       "      <td>1</td>\n",
       "      <td>Chocolate Sandwich Cookies</td>\n",
       "      <td>61</td>\n",
       "      <td>19</td>\n",
       "      <td>cookies cakes</td>\n",
       "      <td>snacks</td>\n",
       "    </tr>\n",
       "    <tr>\n",
       "      <th>1</th>\n",
       "      <td>2</td>\n",
       "      <td>All-Seasons Salt</td>\n",
       "      <td>104</td>\n",
       "      <td>13</td>\n",
       "      <td>spices seasonings</td>\n",
       "      <td>pantry</td>\n",
       "    </tr>\n",
       "    <tr>\n",
       "      <th>2</th>\n",
       "      <td>3</td>\n",
       "      <td>Robust Golden Unsweetened Oolong Tea</td>\n",
       "      <td>94</td>\n",
       "      <td>7</td>\n",
       "      <td>tea</td>\n",
       "      <td>beverages</td>\n",
       "    </tr>\n",
       "    <tr>\n",
       "      <th>3</th>\n",
       "      <td>4</td>\n",
       "      <td>Smart Ones Classic Favorites Mini Rigatoni Wit...</td>\n",
       "      <td>38</td>\n",
       "      <td>1</td>\n",
       "      <td>frozen meals</td>\n",
       "      <td>frozen</td>\n",
       "    </tr>\n",
       "    <tr>\n",
       "      <th>4</th>\n",
       "      <td>5</td>\n",
       "      <td>Green Chile Anytime Sauce</td>\n",
       "      <td>5</td>\n",
       "      <td>13</td>\n",
       "      <td>marinades meat preparation</td>\n",
       "      <td>pantry</td>\n",
       "    </tr>\n",
       "  </tbody>\n",
       "</table>\n",
       "</div>"
      ],
      "text/plain": [
       "   product_id                                       product_name  aisle_id  \\\n",
       "0           1                         Chocolate Sandwich Cookies        61   \n",
       "1           2                                   All-Seasons Salt       104   \n",
       "2           3               Robust Golden Unsweetened Oolong Tea        94   \n",
       "3           4  Smart Ones Classic Favorites Mini Rigatoni Wit...        38   \n",
       "4           5                          Green Chile Anytime Sauce         5   \n",
       "\n",
       "   department_id                       aisle department  \n",
       "0             19               cookies cakes     snacks  \n",
       "1             13           spices seasonings     pantry  \n",
       "2              7                         tea  beverages  \n",
       "3              1                frozen meals     frozen  \n",
       "4             13  marinades meat preparation     pantry  "
      ]
     },
     "execution_count": 4,
     "metadata": {},
     "output_type": "execute_result"
    }
   ],
   "source": [
    "# Products\n",
    "\n",
    "products = pd.read_csv('products.csv', sep=',')\n",
    "\n",
    "df_stat(data=products)\n",
    "\n",
    "products.head()"
   ]
  },
  {
   "cell_type": "code",
   "execution_count": 4,
   "metadata": {
    "hidden": true
   },
   "outputs": [
    {
     "name": "stdout",
     "output_type": "stream",
     "text": [
      "Number of rows: 26408073\n",
      "Memory usage: 1901.38 MB\n",
      "\n",
      "                        Missing    Dtype\n",
      "order_id                      0    int64\n",
      "user_id                       0    int64\n",
      "order_number                  0    int64\n",
      "order_dow                     0    int64\n",
      "order_hour_of_day             0    int64\n",
      "days_since_prior_order  1045204  float64\n",
      "product_id                    0    int64\n",
      "add_to_cart_order             0  float64\n",
      "reordered                     0  float64\n"
     ]
    },
    {
     "data": {
      "text/html": [
       "<div>\n",
       "<style scoped>\n",
       "    .dataframe tbody tr th:only-of-type {\n",
       "        vertical-align: middle;\n",
       "    }\n",
       "\n",
       "    .dataframe tbody tr th {\n",
       "        vertical-align: top;\n",
       "    }\n",
       "\n",
       "    .dataframe thead th {\n",
       "        text-align: right;\n",
       "    }\n",
       "</style>\n",
       "<table border=\"1\" class=\"dataframe\">\n",
       "  <thead>\n",
       "    <tr style=\"text-align: right;\">\n",
       "      <th></th>\n",
       "      <th>order_id</th>\n",
       "      <th>user_id</th>\n",
       "      <th>order_number</th>\n",
       "      <th>order_dow</th>\n",
       "      <th>order_hour_of_day</th>\n",
       "      <th>days_since_prior_order</th>\n",
       "      <th>product_id</th>\n",
       "      <th>add_to_cart_order</th>\n",
       "      <th>reordered</th>\n",
       "    </tr>\n",
       "  </thead>\n",
       "  <tbody>\n",
       "    <tr>\n",
       "      <th>0</th>\n",
       "      <td>2539329</td>\n",
       "      <td>1</td>\n",
       "      <td>1</td>\n",
       "      <td>2</td>\n",
       "      <td>8</td>\n",
       "      <td>NaN</td>\n",
       "      <td>196</td>\n",
       "      <td>1.0</td>\n",
       "      <td>0.0</td>\n",
       "    </tr>\n",
       "    <tr>\n",
       "      <th>1</th>\n",
       "      <td>2539329</td>\n",
       "      <td>1</td>\n",
       "      <td>1</td>\n",
       "      <td>2</td>\n",
       "      <td>8</td>\n",
       "      <td>NaN</td>\n",
       "      <td>14084</td>\n",
       "      <td>2.0</td>\n",
       "      <td>0.0</td>\n",
       "    </tr>\n",
       "    <tr>\n",
       "      <th>2</th>\n",
       "      <td>2539329</td>\n",
       "      <td>1</td>\n",
       "      <td>1</td>\n",
       "      <td>2</td>\n",
       "      <td>8</td>\n",
       "      <td>NaN</td>\n",
       "      <td>12427</td>\n",
       "      <td>3.0</td>\n",
       "      <td>0.0</td>\n",
       "    </tr>\n",
       "    <tr>\n",
       "      <th>3</th>\n",
       "      <td>2539329</td>\n",
       "      <td>1</td>\n",
       "      <td>1</td>\n",
       "      <td>2</td>\n",
       "      <td>8</td>\n",
       "      <td>NaN</td>\n",
       "      <td>26088</td>\n",
       "      <td>4.0</td>\n",
       "      <td>0.0</td>\n",
       "    </tr>\n",
       "    <tr>\n",
       "      <th>4</th>\n",
       "      <td>2539329</td>\n",
       "      <td>1</td>\n",
       "      <td>1</td>\n",
       "      <td>2</td>\n",
       "      <td>8</td>\n",
       "      <td>NaN</td>\n",
       "      <td>26405</td>\n",
       "      <td>5.0</td>\n",
       "      <td>0.0</td>\n",
       "    </tr>\n",
       "  </tbody>\n",
       "</table>\n",
       "</div>"
      ],
      "text/plain": [
       "   order_id  user_id  order_number  order_dow  order_hour_of_day  \\\n",
       "0   2539329        1             1          2                  8   \n",
       "1   2539329        1             1          2                  8   \n",
       "2   2539329        1             1          2                  8   \n",
       "3   2539329        1             1          2                  8   \n",
       "4   2539329        1             1          2                  8   \n",
       "\n",
       "   days_since_prior_order  product_id  add_to_cart_order  reordered  \n",
       "0                     NaN         196                1.0        0.0  \n",
       "1                     NaN       14084                2.0        0.0  \n",
       "2                     NaN       12427                3.0        0.0  \n",
       "3                     NaN       26088                4.0        0.0  \n",
       "4                     NaN       26405                5.0        0.0  "
      ]
     },
     "execution_count": 4,
     "metadata": {},
     "output_type": "execute_result"
    }
   ],
   "source": [
    "# Transactions\n",
    "\n",
    "trans = pd.read_csv('transactions.csv', sep=',')\n",
    "\n",
    "df_stat(data=trans)\n",
    "\n",
    "trans.head()"
   ]
  },
  {
   "cell_type": "markdown",
   "metadata": {
    "hidden": true
   },
   "source": [
    "___\n",
    "In my opinion, working with one dataframe instead of two is more convenient."
   ]
  },
  {
   "cell_type": "code",
   "execution_count": 54,
   "metadata": {
    "hidden": true
   },
   "outputs": [
    {
     "name": "stdout",
     "output_type": "stream",
     "text": [
      "Number of rows: 26408073\n",
      "Memory usage: 2535.18 MB\n",
      "\n",
      "                        Missing    Dtype\n",
      "order_id                      0    int64\n",
      "user_id                       0    int64\n",
      "order_number                  0    int64\n",
      "order_dow                     0    int64\n",
      "order_hour_of_day             0    int64\n",
      "days_since_prior_order  1045204  float64\n",
      "product_id                    0    int64\n",
      "add_to_cart_order             0  float64\n",
      "reordered                     0  float64\n",
      "aisle_id                      0    int64\n",
      "department_id                 0    int64\n"
     ]
    }
   ],
   "source": [
    "# Alltogether\n",
    "\n",
    "df = trans.merge(\n",
    "            products[['product_id', 'aisle_id', 'department_id']], on='product_id'\n",
    ")\n",
    "\n",
    "df_stat(data=df)"
   ]
  },
  {
   "cell_type": "markdown",
   "metadata": {
    "hidden": true
   },
   "source": [
    "___\n",
    "As we can see, our dataframe is quite heavy and some column data types seems to be too much for data that they are representing."
   ]
  },
  {
   "cell_type": "code",
   "execution_count": 55,
   "metadata": {
    "hidden": true
   },
   "outputs": [
    {
     "name": "stdout",
     "output_type": "stream",
     "text": [
      "Number of rows: 26408073\n",
      "Memory usage: 1373.22 MB\n",
      "\n",
      "                        Missing    Dtype\n",
      "order_id                      0    int32\n",
      "user_id                       0    int32\n",
      "order_number                  0    int32\n",
      "order_dow                     0    int32\n",
      "order_hour_of_day             0    int32\n",
      "days_since_prior_order  1045204  float32\n",
      "product_id                    0    int32\n",
      "add_to_cart_order             0  float32\n",
      "reordered                     0  float32\n",
      "aisle_id                      0    int32\n",
      "department_id                 0    int32\n"
     ]
    }
   ],
   "source": [
    "# Trying to save some memory\n",
    "\n",
    "for col in df.columns:\n",
    "    \n",
    "    if isinstance(df[col].iloc[0], np.int64):\n",
    "        df[col] = df[col].astype(np.int32)\n",
    "        \n",
    "    elif isinstance(df[col].iloc[0], np.float64):\n",
    "        df[col] = df[col].astype(np.float32)\n",
    "        \n",
    "    else:\n",
    "        continue\n",
    "\n",
    "# Checking out\n",
    "\n",
    "df_stat(data=df)"
   ]
  },
  {
   "cell_type": "markdown",
   "metadata": {
    "hidden": true
   },
   "source": [
    "___\n",
    "Let's split our dataframe into train and test data. My idea is to train my model on all orders for each user but the last one. The last purchase is for validation. Also we need not splitted data to make final submission later."
   ]
  },
  {
   "cell_type": "code",
   "execution_count": 56,
   "metadata": {
    "hidden": true
   },
   "outputs": [],
   "source": [
    "# Providing custom train_test_split (test - only last purchase for each user, train - the other purchases)\n",
    "\n",
    "df = df.merge(\n",
    "            df.groupby('user_id')['order_number'].max().reset_index().rename(columns={'order_number': 'last_order'})\n",
    "           ,on='user_id'\n",
    ")\n",
    "\n",
    "df_train, df_test = df[~df['order_number'].eq(df['last_order'])], df[df['order_number'].eq(df['last_order'])]\n",
    "\n",
    "for data, file_name in zip((df, df_train, df_test), ('main_data','train', 'test')):\n",
    "    data.to_csv(f'{file_name}.csv', index=False)"
   ]
  },
  {
   "cell_type": "code",
   "execution_count": 98,
   "metadata": {
    "hidden": true
   },
   "outputs": [],
   "source": [
    "# Free some space\n",
    "\n",
    "del df, df_train, df_test, data, products"
   ]
  },
  {
   "cell_type": "markdown",
   "metadata": {},
   "source": [
    "## Products data analysis<a id='3'></a>"
   ]
  },
  {
   "cell_type": "markdown",
   "metadata": {},
   "source": [
    "We will use only train data for the analysis. The goal is to get embeddings for each product in dataframe. Since embeddings are done, we can assess similarity of products via some distance metrics (ex. euclidian). In other words, I suggest to try item-based method for our system."
   ]
  },
  {
   "cell_type": "code",
   "execution_count": 37,
   "metadata": {},
   "outputs": [],
   "source": [
    "df = pd.read_csv('train.csv')"
   ]
  },
  {
   "cell_type": "markdown",
   "metadata": {
    "heading_collapsed": true
   },
   "source": [
    "### Data agregation"
   ]
  },
  {
   "cell_type": "code",
   "execution_count": 101,
   "metadata": {
    "hidden": true
   },
   "outputs": [
    {
     "name": "stdout",
     "output_type": "stream",
     "text": [
      "Number of rows: 49413\n",
      "Memory usage: 3.56 MB\n",
      "\n",
      "                          Missing    Dtype\n",
      "product_id                      0    int64\n",
      "aisle_id                        0    int64\n",
      "department_id                   0    int64\n",
      "n_users                         0    int64\n",
      "median_dow                      0  float64\n",
      "median_hour_of_day              0  float64\n",
      "mean_days_between_orders       56  float64\n",
      "median_cart_position            0  float64\n",
      "total_reordered                 0  float64\n"
     ]
    },
    {
     "data": {
      "text/html": [
       "<div>\n",
       "<style scoped>\n",
       "    .dataframe tbody tr th:only-of-type {\n",
       "        vertical-align: middle;\n",
       "    }\n",
       "\n",
       "    .dataframe tbody tr th {\n",
       "        vertical-align: top;\n",
       "    }\n",
       "\n",
       "    .dataframe thead th {\n",
       "        text-align: right;\n",
       "    }\n",
       "</style>\n",
       "<table border=\"1\" class=\"dataframe\">\n",
       "  <thead>\n",
       "    <tr style=\"text-align: right;\">\n",
       "      <th></th>\n",
       "      <th>product_id</th>\n",
       "      <th>aisle_id</th>\n",
       "      <th>department_id</th>\n",
       "      <th>n_users</th>\n",
       "      <th>median_dow</th>\n",
       "      <th>median_hour_of_day</th>\n",
       "      <th>mean_days_between_orders</th>\n",
       "      <th>median_cart_position</th>\n",
       "      <th>total_reordered</th>\n",
       "    </tr>\n",
       "  </thead>\n",
       "  <tbody>\n",
       "    <tr>\n",
       "      <th>0</th>\n",
       "      <td>1</td>\n",
       "      <td>61</td>\n",
       "      <td>19</td>\n",
       "      <td>485</td>\n",
       "      <td>3.0</td>\n",
       "      <td>13.0</td>\n",
       "      <td>8.918789</td>\n",
       "      <td>4.0</td>\n",
       "      <td>1008.0</td>\n",
       "    </tr>\n",
       "    <tr>\n",
       "      <th>1</th>\n",
       "      <td>2</td>\n",
       "      <td>104</td>\n",
       "      <td>13</td>\n",
       "      <td>63</td>\n",
       "      <td>3.0</td>\n",
       "      <td>13.0</td>\n",
       "      <td>9.647887</td>\n",
       "      <td>9.0</td>\n",
       "      <td>10.0</td>\n",
       "    </tr>\n",
       "    <tr>\n",
       "      <th>2</th>\n",
       "      <td>3</td>\n",
       "      <td>94</td>\n",
       "      <td>7</td>\n",
       "      <td>51</td>\n",
       "      <td>2.0</td>\n",
       "      <td>11.0</td>\n",
       "      <td>9.296460</td>\n",
       "      <td>4.5</td>\n",
       "      <td>187.0</td>\n",
       "    </tr>\n",
       "    <tr>\n",
       "      <th>3</th>\n",
       "      <td>4</td>\n",
       "      <td>38</td>\n",
       "      <td>1</td>\n",
       "      <td>104</td>\n",
       "      <td>2.0</td>\n",
       "      <td>14.0</td>\n",
       "      <td>12.566845</td>\n",
       "      <td>8.0</td>\n",
       "      <td>96.0</td>\n",
       "    </tr>\n",
       "    <tr>\n",
       "      <th>4</th>\n",
       "      <td>5</td>\n",
       "      <td>5</td>\n",
       "      <td>13</td>\n",
       "      <td>3</td>\n",
       "      <td>2.0</td>\n",
       "      <td>11.0</td>\n",
       "      <td>11.090909</td>\n",
       "      <td>6.0</td>\n",
       "      <td>8.0</td>\n",
       "    </tr>\n",
       "  </tbody>\n",
       "</table>\n",
       "</div>"
      ],
      "text/plain": [
       "   product_id  aisle_id  department_id  n_users  median_dow  \\\n",
       "0           1        61             19      485         3.0   \n",
       "1           2       104             13       63         3.0   \n",
       "2           3        94              7       51         2.0   \n",
       "3           4        38              1      104         2.0   \n",
       "4           5         5             13        3         2.0   \n",
       "\n",
       "   median_hour_of_day  mean_days_between_orders  median_cart_position  \\\n",
       "0                13.0                  8.918789                   4.0   \n",
       "1                13.0                  9.647887                   9.0   \n",
       "2                11.0                  9.296460                   4.5   \n",
       "3                14.0                 12.566845                   8.0   \n",
       "4                11.0                 11.090909                   6.0   \n",
       "\n",
       "   total_reordered  \n",
       "0           1008.0  \n",
       "1             10.0  \n",
       "2            187.0  \n",
       "3             96.0  \n",
       "4              8.0  "
      ]
     },
     "execution_count": 101,
     "metadata": {},
     "output_type": "execute_result"
    }
   ],
   "source": [
    "# Aggregating\n",
    "\n",
    "df_agg = df.groupby(['product_id', 'aisle_id', 'department_id'])\\\n",
    "           .agg({\n",
    "                 'user_id': 'nunique' # how many users\n",
    "                ,'order_dow': 'median' # what day of the week\n",
    "                ,'order_hour_of_day': 'median' # what time of a day\n",
    "                ,'days_since_prior_order': 'mean' # how often\n",
    "                ,'add_to_cart_order': 'median' # what position\n",
    "                ,'reordered': 'sum' # how many reorders\n",
    "        }).reset_index().rename(\n",
    "                            columns={\n",
    "                                 'user_id': 'n_users'\n",
    "                                ,'order_dow': 'median_dow'\n",
    "                                ,'order_hour_of_day': 'median_hour_of_day'\n",
    "                                ,'days_since_prior_order': 'mean_days_between_orders'\n",
    "                                ,'add_to_cart_order': 'median_cart_position'\n",
    "                                ,'reordered': 'total_reordered'                                          \n",
    "                            }\n",
    "                        )\n",
    "\n",
    "df_stat(data=df_agg)\n",
    "\n",
    "df_agg.head()"
   ]
  },
  {
   "cell_type": "markdown",
   "metadata": {
    "hidden": true
   },
   "source": [
    "___\n",
    "We have got certain products which have been purchased only once. I'd like to save them into another dataframe."
   ]
  },
  {
   "cell_type": "code",
   "execution_count": 103,
   "metadata": {
    "hidden": true
   },
   "outputs": [],
   "source": [
    "# Saving sigle-purchase products\n",
    "\n",
    "exceptions = df_agg[pd.isna(df_agg['mean_days_between_orders'])]['product_id'].values"
   ]
  },
  {
   "cell_type": "code",
   "execution_count": 104,
   "metadata": {
    "hidden": true
   },
   "outputs": [],
   "source": [
    "# Features we'd like to examine\n",
    "\n",
    "num_cols = ['n_users', 'mean_days_between_orders', 'median_cart_position', 'total_reordered'] # numeric\n",
    "cat_cols = ['aisle_id', 'department_id', 'median_dow', 'median_hour_of_day'] # categorical"
   ]
  },
  {
   "cell_type": "code",
   "execution_count": 105,
   "metadata": {
    "hidden": true
   },
   "outputs": [],
   "source": [
    "# Finally\n",
    "\n",
    "for col in cat_cols:\n",
    "    df_agg[col] = df_agg[col].astype(np.int32).astype(str) # a thing of beauty\n",
    "    \n",
    "df_agg_main = df_agg[~df_agg['product_id'].isin(exceptions)] # for clustering\n",
    "df_agg_exc = df_agg[df_agg['product_id'].isin(exceptions)] # not for clustering\n",
    "\n",
    "del df, df_agg"
   ]
  },
  {
   "cell_type": "markdown",
   "metadata": {
    "heading_collapsed": true
   },
   "source": [
    "### Clustering"
   ]
  },
  {
   "cell_type": "markdown",
   "metadata": {
    "hidden": true
   },
   "source": [
    "One of the best ways to find similarities in data is clustering. We are going to use simple KMeans algorithm with elbow method to calculate optimal number of clusters. As we have categorical features in the dataframe, we need to transform them into numeric type. I'd like to apply one-hot encoding."
   ]
  },
  {
   "cell_type": "code",
   "execution_count": 107,
   "metadata": {
    "hidden": true
   },
   "outputs": [],
   "source": [
    "# Create features matrix\n",
    "\n",
    "num_features = df_agg_main[num_cols] # numeric\n",
    "\n",
    "cat_features = pd.get_dummies(df_agg_main[cat_cols]) # categorical\n",
    "\n",
    "cols = num_features.columns.tolist() + cat_features.columns.tolist()\n",
    "\n",
    "x = np.hstack([\n",
    "             num_features.values.reshape(df_agg_main.shape[0], -1)\n",
    "            ,cat_features.values.reshape(df_agg_main.shape[0], -1)\n",
    "])\n",
    "\n",
    "del num_features, cat_features"
   ]
  },
  {
   "cell_type": "code",
   "execution_count": 109,
   "metadata": {
    "code_folding": [
     0
    ],
    "hidden": true
   },
   "outputs": [
    {
     "data": {
      "image/png": "[encoded data removed]",
      "text/plain": [
       "<Figure size 864x432 with 1 Axes>"
      ]
     },
     "metadata": {},
     "output_type": "display_data"
    },
    {
     "name": "stdout",
     "output_type": "stream",
     "text": [
      "Wall time: 19.3 s\n"
     ]
    }
   ],
   "source": [
    "%%time\n",
    "\n",
    "# Finding optimal cluster number\n",
    "\n",
    "k_limit = 10\n",
    "\n",
    "models = {key: None for key in range(1, k_limit + 1)}\n",
    "metrics = {key: None for key in range(1, k_limit + 1)}\n",
    "\n",
    "for k in range(1, k_limit + 1):\n",
    "    models[k] = KMeans(n_clusters=k, random_state=17).fit(x)\n",
    "    centroids, labels = models[k].cluster_centers_, models[k].labels_\n",
    "    \n",
    "    metric = 0\n",
    "    for centroid in range(k):\n",
    "        metric += euclidean_distances(x[labels==centroid], centroids[centroid,:].reshape(1, -1)).sum(axis=0)[0]\n",
    "    \n",
    "    metrics[k] = metric\n",
    "    \n",
    "D = {k: abs(metrics.get(k + 1, 0) - metrics[k]) / abs(metrics[k]- metrics.get(k - 1, 0)) for k in range(2, k_limit + 1)}\n",
    "\n",
    "best_k = min(D.items(), key=lambda x: x[1])[0]\n",
    "# print(f'Best cluster number: {best_k}')\n",
    "\n",
    "# Visualizing\n",
    "\n",
    "fig, ax = plt.subplots(figsize=(12, 6))\n",
    "sns.despine(left=False, bottom=False, right=True)\n",
    "\n",
    "sns.lineplot(\n",
    "             x=metrics.keys()\n",
    "            ,y=metrics.values()\n",
    "            ,linewidth=1.95\n",
    "            ,markers=True\n",
    "            ,color='royalblue'\n",
    "            ,ax=ax\n",
    ")\n",
    "\n",
    "sns.scatterplot(\n",
    "             x=metrics.keys()\n",
    "            ,y=metrics.values()\n",
    "            ,s=100\n",
    "            ,color='royalblue'\n",
    "            ,ax=ax\n",
    ")\n",
    "\n",
    "sns.scatterplot(\n",
    "             x=[best_k]\n",
    "            ,y=[metrics[best_k]]\n",
    "            ,s=200\n",
    "            ,color='orangered'\n",
    "            ,ax=ax\n",
    ")\n",
    "\n",
    "ax.set_xticks(list(metrics.keys()))\n",
    "\n",
    "plt.xticks(fontsize=12)\n",
    "plt.yticks(fontsize=12)\n",
    "plt.xlabel('Cluster number', fontsize=12)\n",
    "plt.ylabel('Metric', fontsize=12)\n",
    "plt.title('Elbow method', fontsize=14)\n",
    "\n",
    "canvas = FigureCanvasAgg(fig)\n",
    "fig.canvas.draw()\n",
    "renderer = fig._cachedRenderer\n",
    "tightbox = fig.get_tightbbox(renderer)\n",
    "w, h = fig.get_size_inches()\n",
    "bbox = Bbox.from_extents(min(tightbox.x0, 0), min(tightbox.y0, 0), max(tightbox.x1, w), max(tightbox.y1, h))\n",
    "plt.savefig('elbow_prod.png', bbox_inches=bbox)\n",
    "\n",
    "plt.show()"
   ]
  },
  {
   "cell_type": "code",
   "execution_count": 110,
   "metadata": {
    "code_folding": [],
    "hidden": true
   },
   "outputs": [
    {
     "name": "stdout",
     "output_type": "stream",
     "text": [
      "Silhouette score: 0.921\n",
      "Wall time: 25 s\n"
     ]
    }
   ],
   "source": [
    "%%time\n",
    "\n",
    "# Best model\n",
    "\n",
    "best_model = models[best_k]\n",
    "\n",
    "# Best score\n",
    "\n",
    "score = silhouette_score(x, best_model.labels_)\n",
    "print(f'Silhouette score: {score:.3f}')"
   ]
  },
  {
   "cell_type": "markdown",
   "metadata": {
    "hidden": true
   },
   "source": [
    "___\n",
    "Well, silhouette score is very high with `6` clusters. Let's see how these cluster are distributed."
   ]
  },
  {
   "cell_type": "code",
   "execution_count": 113,
   "metadata": {
    "hidden": true
   },
   "outputs": [
    {
     "name": "stdout",
     "output_type": "stream",
     "text": [
      "Cluster distribution:\n"
     ]
    },
    {
     "data": {
      "text/plain": [
       "0    47877\n",
       "4     1240\n",
       "5      177\n",
       "2       52\n",
       "1        9\n",
       "3        2\n",
       "Name: Cluster, dtype: int64"
      ]
     },
     "execution_count": 113,
     "metadata": {},
     "output_type": "execute_result"
    }
   ],
   "source": [
    "# Cluster labels\n",
    "\n",
    "df_agg_main['Cluster'] = best_model.labels_\n",
    "\n",
    "# What we have got\n",
    "\n",
    "print('Cluster distribution:')\n",
    "df_agg_main['Cluster'].value_counts()"
   ]
  },
  {
   "cell_type": "code",
   "execution_count": 114,
   "metadata": {
    "hidden": true
   },
   "outputs": [
    {
     "data": {
      "text/html": [
       "<div>\n",
       "<style scoped>\n",
       "    .dataframe tbody tr th:only-of-type {\n",
       "        vertical-align: middle;\n",
       "    }\n",
       "\n",
       "    .dataframe tbody tr th {\n",
       "        vertical-align: top;\n",
       "    }\n",
       "\n",
       "    .dataframe thead th {\n",
       "        text-align: right;\n",
       "    }\n",
       "</style>\n",
       "<table border=\"1\" class=\"dataframe\">\n",
       "  <thead>\n",
       "    <tr style=\"text-align: right;\">\n",
       "      <th></th>\n",
       "      <th>n_users</th>\n",
       "      <th>mean_days_between_orders</th>\n",
       "      <th>median_cart_position</th>\n",
       "      <th>total_reordered</th>\n",
       "    </tr>\n",
       "  </thead>\n",
       "  <tbody>\n",
       "    <tr>\n",
       "      <th>0</th>\n",
       "      <td>92.696786</td>\n",
       "      <td>9.956669</td>\n",
       "      <td>7.389091</td>\n",
       "      <td>110.440546</td>\n",
       "    </tr>\n",
       "    <tr>\n",
       "      <th>1</th>\n",
       "      <td>27979.777778</td>\n",
       "      <td>9.374265</td>\n",
       "      <td>5.333333</td>\n",
       "      <td>115040.777778</td>\n",
       "    </tr>\n",
       "    <tr>\n",
       "      <th>2</th>\n",
       "      <td>14633.153846</td>\n",
       "      <td>9.460622</td>\n",
       "      <td>6.211538</td>\n",
       "      <td>40331.692308</td>\n",
       "    </tr>\n",
       "    <tr>\n",
       "      <th>3</th>\n",
       "      <td>41524.500000</td>\n",
       "      <td>9.200312</td>\n",
       "      <td>3.500000</td>\n",
       "      <td>300354.500000</td>\n",
       "    </tr>\n",
       "    <tr>\n",
       "      <th>4</th>\n",
       "      <td>2025.572581</td>\n",
       "      <td>9.671554</td>\n",
       "      <td>6.573387</td>\n",
       "      <td>3716.799194</td>\n",
       "    </tr>\n",
       "    <tr>\n",
       "      <th>5</th>\n",
       "      <td>6170.683616</td>\n",
       "      <td>9.546460</td>\n",
       "      <td>6.282486</td>\n",
       "      <td>14471.152542</td>\n",
       "    </tr>\n",
       "  </tbody>\n",
       "</table>\n",
       "</div>"
      ],
      "text/plain": [
       "        n_users  mean_days_between_orders  median_cart_position  \\\n",
       "0     92.696786                  9.956669              7.389091   \n",
       "1  27979.777778                  9.374265              5.333333   \n",
       "2  14633.153846                  9.460622              6.211538   \n",
       "3  41524.500000                  9.200312              3.500000   \n",
       "4   2025.572581                  9.671554              6.573387   \n",
       "5   6170.683616                  9.546460              6.282486   \n",
       "\n",
       "   total_reordered  \n",
       "0       110.440546  \n",
       "1    115040.777778  \n",
       "2     40331.692308  \n",
       "3    300354.500000  \n",
       "4      3716.799194  \n",
       "5     14471.152542  "
      ]
     },
     "execution_count": 114,
     "metadata": {},
     "output_type": "execute_result"
    }
   ],
   "source": [
    "# Centroids\n",
    "\n",
    "centroids = pd.DataFrame(\n",
    "                         data={col: cluster for col, cluster in zip(cols, best_model.cluster_centers_.T)}\n",
    "                        ,index=range(df_agg_main['Cluster'].nunique())\n",
    "                )\n",
    "\n",
    "centroids[num_cols]"
   ]
  },
  {
   "cell_type": "markdown",
   "metadata": {
    "hidden": true
   },
   "source": [
    "___\n",
    "Here we can see that large amount of our products is not so popular based on unique users and total reorders."
   ]
  },
  {
   "cell_type": "code",
   "execution_count": 115,
   "metadata": {
    "hidden": true
   },
   "outputs": [],
   "source": [
    "# Reducing features space\n",
    "\n",
    "pca = PCA(n_components=2).fit(x)\n",
    "x_pca = pca.transform(x)\n",
    "centroids_pca = pca.transform(centroids.values)"
   ]
  },
  {
   "cell_type": "code",
   "execution_count": 116,
   "metadata": {
    "code_folding": [
     0
    ],
    "hidden": true
   },
   "outputs": [
    {
     "data": {
      "image/png": "[encoded data removed]",
      "text/plain": [
       "<Figure size 864x432 with 1 Axes>"
      ]
     },
     "metadata": {},
     "output_type": "display_data"
    }
   ],
   "source": [
    "# Visualizing\n",
    "\n",
    "res = pd.DataFrame( \n",
    "                data={\n",
    "                     'X': x_pca[:, 0]\n",
    "                    ,'Y': x_pca[:, 1]\n",
    "                    ,'Cluster': best_model.labels_      \n",
    "                }\n",
    "                ,index=list(range(x_pca.shape[0]))\n",
    ")\n",
    "\n",
    "fig, ax = plt.subplots(figsize=(12, 6))\n",
    "sns.despine(left=False, bottom=False, right=True)\n",
    "\n",
    "sns.scatterplot( \n",
    "             data=res\n",
    "            ,x='X'\n",
    "            ,y='Y'\n",
    "            ,hue='Cluster'\n",
    "            ,alpha=0.8\n",
    "            ,palette='viridis_r'\n",
    "            ,edgecolor='black'\n",
    "            ,linewidth=.8\n",
    "            ,size='Cluster'\n",
    "            ,sizes=(50, 50)\n",
    "            ,ax=ax\n",
    ")\n",
    "\n",
    "tmp = pd.DataFrame( \n",
    "                data={\n",
    "                     'X': centroids_pca[:, 0]\n",
    "                    ,'Y':centroids_pca[:, 1]\n",
    "                }\n",
    "                ,index=list(range(centroids.shape[0]))\n",
    ")\n",
    "\n",
    "sns.scatterplot( \n",
    "             data=tmp\n",
    "            ,x='X'\n",
    "            ,y='Y'\n",
    "            ,color='red'\n",
    "            ,label='Centroid'\n",
    "            ,linewidth=1.0\n",
    "            ,marker='x'\n",
    "            ,s=150\n",
    "            ,ax=ax\n",
    ")\n",
    "\n",
    "ax.tick_params(labelsize=12)\n",
    "ax.set_xlabel('X', fontsize=12)\n",
    "ax.set_ylabel('Y', fontsize=12)\n",
    "ax.set_title('Clusters', fontsize=14)\n",
    "\n",
    "ax.legend(loc=1, bbox_to_anchor=(1.2, 1), fontsize=12)\n",
    "ax.legend_.set_title('Cluster')\n",
    "ax.legend_.get_title().set_fontsize(13)\n",
    "\n",
    "canvas = FigureCanvasAgg(fig)\n",
    "fig.canvas.draw()\n",
    "renderer = fig._cachedRenderer\n",
    "tightbox = fig.get_tightbbox(renderer)\n",
    "w,h = fig.get_size_inches()\n",
    "bbox = Bbox.from_extents(min(tightbox.x0, 0), min(tightbox.y0, 0), max(tightbox.x1, w), max(tightbox.y1, h))\n",
    "plt.savefig('Clusters_prod.png', bbox_inches=bbox)\n",
    "\n",
    "plt.show()"
   ]
  },
  {
   "cell_type": "markdown",
   "metadata": {
    "hidden": true
   },
   "source": [
    "___\n",
    "This is how our clustered data looks like in reduced space.<br/> \n",
    "But now it's time to make our embeddings. I'm going to include: numeric features, categorical features (one-hot style) and clusters (one-hot style). Also I suggest to add an extra cluster for our exceptions (single-purchased products)."
   ]
  },
  {
   "cell_type": "code",
   "execution_count": 118,
   "metadata": {
    "hidden": true
   },
   "outputs": [],
   "source": [
    "# Additional cluster for exceptions\n",
    "\n",
    "df_agg_exc['Cluster'] = -1\n",
    "\n",
    "# Alltogether\n",
    "\n",
    "prod_emb = (pd.concat([df_agg_main, df_agg_exc], ignore_index=True)).reset_index().assign(indx=lambda x: x.index)\n",
    "\n",
    "prod_emb = prod_emb[['indx', 'product_id'] + num_cols]\\\n",
    "                                                .join(pd.get_dummies(prod_emb[cat_cols]))\\\n",
    "                                                .join(pd.get_dummies(prod_emb['Cluster']))\n",
    "\n",
    "prod_emb.to_csv('product_embedding.csv', index=False)\n",
    "\n",
    "del x, df_agg_main, df_agg_exc, prod_emb"
   ]
  },
  {
   "cell_type": "markdown",
   "metadata": {
    "heading_collapsed": true
   },
   "source": [
    "### Nearest Neighbors"
   ]
  },
  {
   "cell_type": "markdown",
   "metadata": {
    "hidden": true
   },
   "source": [
    "We have embeddings, therefore we can measure similaraties/differences between all products. In other words, we need to be able to search neighbors for products in our data. Let's create and train NearestNeighbors model from sklearn. I'm going to use euclidean distance metric."
   ]
  },
  {
   "cell_type": "code",
   "execution_count": 11,
   "metadata": {
    "hidden": true
   },
   "outputs": [],
   "source": [
    "# Loading data\n",
    "\n",
    "prod_emb = pd.read_csv('product_embedding.csv')"
   ]
  },
  {
   "cell_type": "code",
   "execution_count": 12,
   "metadata": {
    "hidden": true
   },
   "outputs": [
    {
     "name": "stdout",
     "output_type": "stream",
     "text": [
      "Wall time: 2.93 s\n"
     ]
    }
   ],
   "source": [
    "%%time\n",
    "\n",
    "# NearestNeighbors\n",
    "\n",
    "emb_cols = prod_emb.columns[2:]\n",
    "prod_emb.fillna(prod_emb['mean_days_between_orders'].median(), inplace=True) # the weakest point\n",
    "\n",
    "neigh = NearestNeighbors(n_jobs=-1, metric='euclidean').fit(prod_emb[emb_cols].values)"
   ]
  },
  {
   "cell_type": "markdown",
   "metadata": {
    "hidden": true
   },
   "source": [
    "<div class=\"alert alert-warning\">\n",
    "<b>The weakest point:</b> Feature `mean_days_between_orders` cannot be defined for single-purchased products. Here I just filled `NaN` with the median, but actually it's wrong. That's why I decided to drop these products in my following attempts. As there are not so many \"problem\" products, final score of the model remains quite stable. </div>"
   ]
  },
  {
   "cell_type": "markdown",
   "metadata": {
    "hidden": true
   },
   "source": [
    "And here is my favorite part. Since we have NearestNeighbors model, we can find **k** nearest neighbors for each product now and save it into a file. When we need to make predictions, we will use this file without additional calculations. By the way, it's my first time of using parallel calculations."
   ]
  },
  {
   "cell_type": "code",
   "execution_count": 14,
   "metadata": {
    "hidden": true
   },
   "outputs": [
    {
     "name": "stdout",
     "output_type": "stream",
     "text": [
      "Wall time: 4min 39s\n"
     ]
    }
   ],
   "source": [
    "%%time\n",
    "\n",
    "# List for coroutines results\n",
    "\n",
    "tmp_res_list = []\n",
    "\n",
    "async def knn(prod_id:int, k:int=10) -> None:\n",
    "    \n",
    "    \"\"\" Coroutine that finds k nearest neighbors to selected product \"\"\"\n",
    "    \n",
    "    neighbors = neigh.kneighbors(\n",
    "                             prod_emb[prod_emb['product_id'].eq(prod_id)][emb_cols].values\n",
    "                            ,n_neighbors=k\n",
    "                            ) \n",
    "    tmp = pd.DataFrame({\n",
    "                     'product_id_x': [prod_id] * k\n",
    "                    ,'indx': neighbors[1][0]\n",
    "                    ,'Metric': neighbors[0][0]\n",
    "            \n",
    "        })   \n",
    "    tmp_res_list.append(tmp)\n",
    "    \n",
    "async def main(k:int=10):\n",
    "    \n",
    "    \"\"\" Main coroutine that schedules the other coroutines \"\"\"\n",
    "\n",
    "    tasks = [asyncio.create_task(knn(prod, k)) for prod in prod_emb['product_id'].values]\n",
    "\n",
    "    await asyncio.gather(*tasks)\n",
    "\n",
    "# Create an event loop and run the main coroutine\n",
    "\n",
    "loop = asyncio.get_event_loop()\n",
    "loop.run_until_complete(main(10))\n",
    "\n",
    "loop.run_until_complete(loop.shutdown_asyncgens())\n",
    "    \n",
    "prod_knn_df = pd.DataFrame()\n",
    "for elem in tmp_res_list:\n",
    "    prod_knn_df = pd.concat([prod_knn_df, elem], ignore_index=True)\n",
    "\n",
    "prod_knn_df.to_csv(f'product_knn_{10}.csv', index=False)\n",
    "    \n",
    "del tmp_res_list, prod_knn_df\n",
    "    \n",
    "asyncio.set_event_loop(asyncio.new_event_loop())"
   ]
  },
  {
   "cell_type": "markdown",
   "metadata": {
    "hidden": true
   },
   "source": [
    "___\n",
    "Calculations in the \"classic\" way could take up to 6-8 hours. I tried."
   ]
  },
  {
   "cell_type": "markdown",
   "metadata": {},
   "source": [
    "## Modeling<a id='4'></a>"
   ]
  },
  {
   "cell_type": "markdown",
   "metadata": {},
   "source": [
    "Basically, we need to load data."
   ]
  },
  {
   "cell_type": "code",
   "execution_count": 16,
   "metadata": {},
   "outputs": [],
   "source": [
    "df_train = pd.read_csv('train.csv') # train\n",
    "df_test = pd.read_csv('test.csv') # test\n",
    "\n",
    "users = np.sort(df_train ['user_id'].unique()) # all users"
   ]
  },
  {
   "cell_type": "markdown",
   "metadata": {},
   "source": [
    "___\n",
    "Here is my idea about recommendations for our users. I suppose that the majority of customers tends to buy same products over and over again. Although they have heard something about diversity, consumer habits are tough to resist. If we decide to follow this idea, the most reasonable recommendation system will recommend products which already have been purchased. Next step of this idea is prioritizing these products for each user. In my opinion, the easiest way to do it is to assign the weight coefficient to the every product. Number of orders (how many times this user bought this product) seems to be ideal for this job. Finally, due to the fact that we need only top **k** products to predict, we can use only top **k** products from previous purchases sorted by our weight coefficient. Lets look at the example below (`user_id` = `1`)."
   ]
  },
  {
   "cell_type": "code",
   "execution_count": 50,
   "metadata": {},
   "outputs": [
    {
     "data": {
      "text/html": [
       "<div>\n",
       "<style scoped>\n",
       "    .dataframe tbody tr th:only-of-type {\n",
       "        vertical-align: middle;\n",
       "    }\n",
       "\n",
       "    .dataframe tbody tr th {\n",
       "        vertical-align: top;\n",
       "    }\n",
       "\n",
       "    .dataframe thead th {\n",
       "        text-align: right;\n",
       "    }\n",
       "</style>\n",
       "<table border=\"1\" class=\"dataframe\">\n",
       "  <thead>\n",
       "    <tr style=\"text-align: right;\">\n",
       "      <th></th>\n",
       "      <th></th>\n",
       "      <th>user_id</th>\n",
       "      <th>product_id</th>\n",
       "      <th>weight</th>\n",
       "    </tr>\n",
       "    <tr>\n",
       "      <th>user_id</th>\n",
       "      <th></th>\n",
       "      <th></th>\n",
       "      <th></th>\n",
       "      <th></th>\n",
       "    </tr>\n",
       "  </thead>\n",
       "  <tbody>\n",
       "    <tr>\n",
       "      <th rowspan=\"10\" valign=\"top\">1</th>\n",
       "      <th>0</th>\n",
       "      <td>1</td>\n",
       "      <td>196</td>\n",
       "      <td>9</td>\n",
       "    </tr>\n",
       "    <tr>\n",
       "      <th>1</th>\n",
       "      <td>1</td>\n",
       "      <td>12427</td>\n",
       "      <td>9</td>\n",
       "    </tr>\n",
       "    <tr>\n",
       "      <th>2</th>\n",
       "      <td>1</td>\n",
       "      <td>10258</td>\n",
       "      <td>8</td>\n",
       "    </tr>\n",
       "    <tr>\n",
       "      <th>3</th>\n",
       "      <td>1</td>\n",
       "      <td>25133</td>\n",
       "      <td>7</td>\n",
       "    </tr>\n",
       "    <tr>\n",
       "      <th>4</th>\n",
       "      <td>1</td>\n",
       "      <td>13032</td>\n",
       "      <td>2</td>\n",
       "    </tr>\n",
       "    <tr>\n",
       "      <th>5</th>\n",
       "      <td>1</td>\n",
       "      <td>13176</td>\n",
       "      <td>2</td>\n",
       "    </tr>\n",
       "    <tr>\n",
       "      <th>6</th>\n",
       "      <td>1</td>\n",
       "      <td>26088</td>\n",
       "      <td>2</td>\n",
       "    </tr>\n",
       "    <tr>\n",
       "      <th>7</th>\n",
       "      <td>1</td>\n",
       "      <td>26405</td>\n",
       "      <td>2</td>\n",
       "    </tr>\n",
       "    <tr>\n",
       "      <th>8</th>\n",
       "      <td>1</td>\n",
       "      <td>46149</td>\n",
       "      <td>2</td>\n",
       "    </tr>\n",
       "    <tr>\n",
       "      <th>9</th>\n",
       "      <td>1</td>\n",
       "      <td>49235</td>\n",
       "      <td>2</td>\n",
       "    </tr>\n",
       "  </tbody>\n",
       "</table>\n",
       "</div>"
      ],
      "text/plain": [
       "           user_id  product_id  weight\n",
       "user_id                               \n",
       "1       0        1         196       9\n",
       "        1        1       12427       9\n",
       "        2        1       10258       8\n",
       "        3        1       25133       7\n",
       "        4        1       13032       2\n",
       "        5        1       13176       2\n",
       "        6        1       26088       2\n",
       "        7        1       26405       2\n",
       "        8        1       46149       2\n",
       "        9        1       49235       2"
      ]
     },
     "execution_count": 50,
     "metadata": {},
     "output_type": "execute_result"
    }
   ],
   "source": [
    "# Example\n",
    "\n",
    "user_ex = df_train[df_train['user_id'].eq(1)].assign(dummy=1)\\\n",
    "                                             .groupby(['user_id', 'product_id'])\\\n",
    "                                             .agg({'dummy': 'sum'})\\\n",
    "                                             .assign(weight=lambda x: x.dummy )\\\n",
    "                                             .sort_values(['user_id', 'weight'], ascending=False)\\\n",
    "                                             .reset_index()\\\n",
    "                                             .groupby('user_id')\\\n",
    "                                             .apply(lambda x: x.iloc[: 10])[['user_id', 'product_id', 'weight']]\n",
    "\n",
    "user_ex"
   ]
  },
  {
   "cell_type": "markdown",
   "metadata": {},
   "source": [
    "___\n",
    "But what are we going to if our user doesn't have **k** different products in his costumer history?<br/> \n",
    "Or do we really need to recommend products purchased only twice (look at the example above)?<br/>\n",
    "<br/>\n",
    "My solution is to find **k** nearest neighbors for each product in list, then sort them by using distance metric (column `Metric`) and select top **k** products. Sounds good, but it would be even better if we took into account priority of each product which was discussed earlier. My suggestion is to use this formula: `NewMetric` = (`Metric` + 1) / `weight`. We still can recommend old products (`Metric` = 0), but also we can recommend products their neaighbors. When `weight` is large \"close\" neighbors become even \"closer\", therefore sometimes it is likely to see new product in recommendations. Let's check how it works."
   ]
  },
  {
   "cell_type": "code",
   "execution_count": 29,
   "metadata": {},
   "outputs": [
    {
     "data": {
      "text/html": [
       "<div>\n",
       "<style scoped>\n",
       "    .dataframe tbody tr th:only-of-type {\n",
       "        vertical-align: middle;\n",
       "    }\n",
       "\n",
       "    .dataframe tbody tr th {\n",
       "        vertical-align: top;\n",
       "    }\n",
       "\n",
       "    .dataframe thead th {\n",
       "        text-align: right;\n",
       "    }\n",
       "</style>\n",
       "<table border=\"1\" class=\"dataframe\">\n",
       "  <thead>\n",
       "    <tr style=\"text-align: right;\">\n",
       "      <th></th>\n",
       "      <th>product_id</th>\n",
       "      <th>product_id_y</th>\n",
       "      <th>Metric</th>\n",
       "    </tr>\n",
       "  </thead>\n",
       "  <tbody>\n",
       "    <tr>\n",
       "      <th>0</th>\n",
       "      <td>1</td>\n",
       "      <td>1</td>\n",
       "      <td>0.000000</td>\n",
       "    </tr>\n",
       "    <tr>\n",
       "      <th>1</th>\n",
       "      <td>1804</td>\n",
       "      <td>1</td>\n",
       "      <td>25.885248</td>\n",
       "    </tr>\n",
       "    <tr>\n",
       "      <th>2</th>\n",
       "      <td>8381</td>\n",
       "      <td>1</td>\n",
       "      <td>13.245820</td>\n",
       "    </tr>\n",
       "    <tr>\n",
       "      <th>3</th>\n",
       "      <td>13447</td>\n",
       "      <td>1</td>\n",
       "      <td>6.222959</td>\n",
       "    </tr>\n",
       "    <tr>\n",
       "      <th>4</th>\n",
       "      <td>20906</td>\n",
       "      <td>1</td>\n",
       "      <td>15.544019</td>\n",
       "    </tr>\n",
       "  </tbody>\n",
       "</table>\n",
       "</div>"
      ],
      "text/plain": [
       "   product_id  product_id_y     Metric\n",
       "0           1             1   0.000000\n",
       "1        1804             1  25.885248\n",
       "2        8381             1  13.245820\n",
       "3       13447             1   6.222959\n",
       "4       20906             1  15.544019"
      ]
     },
     "execution_count": 29,
     "metadata": {},
     "output_type": "execute_result"
    }
   ],
   "source": [
    "# kNearestNeabors\n",
    "\n",
    "knn_ex = pd.read_csv(f'product_knn_{10}.csv')   \n",
    "knn_ex = knn_ex.merge(prod_emb, on='indx')[['product_id_x', 'product_id', 'Metric']]\\\n",
    "                                        .rename(columns={'product_id_x': 'product_id', 'product_id': 'product_id_y'})\n",
    "\n",
    "knn_ex.head()"
   ]
  },
  {
   "cell_type": "code",
   "execution_count": 56,
   "metadata": {},
   "outputs": [
    {
     "name": "stdout",
     "output_type": "stream",
     "text": [
      "Prediction: [196, 12427, 10258, 25133, 13032, 13176, 26088, 26405, 46149, 49235]\n"
     ]
    }
   ],
   "source": [
    "# Finally\n",
    "\n",
    "out = user_ex.merge(knn_ex, on='product_id')[['user_id', 'product_id', 'weight', 'product_id_y', 'Metric']]\n",
    "    \n",
    "out['Metric'] = (out['Metric'] + 1) / out['weight']\n",
    "        \n",
    "out = out.sort_values(['user_id', 'Metric'], ascending=True)\\\n",
    "                                            .reset_index()\\\n",
    "                                            .groupby('user_id')\\\n",
    "                                            .apply(lambda x: x.iloc[: 10])\\\n",
    "                                            .rename(columns={'user_id': 'user_id_y'})\\\n",
    "                                            .groupby('user_id_y')['product_id_y'].agg(list).values\n",
    "\n",
    "print(f'Prediction: {out[0]}')"
   ]
  },
  {
   "cell_type": "markdown",
   "metadata": {},
   "source": [
    "___\n",
    "In this case we recommend only \"old\" products, which can be explained that \"close\" neighbors aren't \"close\" enough. Let's make prediction for all users and evaluate our model."
   ]
  },
  {
   "cell_type": "code",
   "execution_count": 18,
   "metadata": {},
   "outputs": [],
   "source": [
    "# Users purchase history\n",
    "\n",
    "def get_users_history(data:pd.DataFrame, users:(list, np.ndarray), k:int=10) -> pd.DataFrame:\n",
    "    \n",
    "    \"\"\" Returns top k products for each user in users sorted by number of orders \"\"\"\n",
    "    \n",
    "    out = data[data['user_id'].isin(users,)].assign(dummy=1)\\\n",
    "                                            .groupby(['user_id', 'product_id'])\\\n",
    "                                            .agg({'dummy': 'sum'})\\\n",
    "                                            .assign(weight=lambda x: x.dummy )\\\n",
    "                                            .sort_values(['user_id', 'weight'], ascending=False)\\\n",
    "                                            .reset_index()\\\n",
    "                                            .groupby('user_id')\\\n",
    "                                            .apply(lambda x: x.iloc[: k])[['user_id', 'product_id', 'weight']]\n",
    "    \n",
    "    return out"
   ]
  },
  {
   "cell_type": "code",
   "execution_count": 57,
   "metadata": {},
   "outputs": [],
   "source": [
    "# knn dataframe\n",
    "\n",
    "def get_products_neighbors(k:int=10) -> pd.DataFrame:\n",
    "    \n",
    "    \"\"\" Returns dataframe with k nearest neighbors for each product \"\"\"\n",
    "    \n",
    "    out = pd.read_csv(f'product_knn_{k}.csv')   \n",
    "    out = out.merge(prod_emb, on='indx')[['product_id_x', 'product_id', 'Metric']]\\\n",
    "                                        .rename(columns={'product_id_x': 'product_id', 'product_id': 'product_id_y'})\n",
    "    \n",
    "    return out"
   ]
  },
  {
   "cell_type": "code",
   "execution_count": 58,
   "metadata": {},
   "outputs": [],
   "source": [
    "# Make prediction\n",
    "\n",
    "def predict(data:pd.DataFrame, users:(list, np.ndarray), k:int=10) -> pd.Series:\n",
    "    \n",
    "    \"\"\" Returns top k recommended products for each user in users \"\"\"\n",
    "    \n",
    "    user_hist = get_users_history(data=data, users=users, k=k)  \n",
    "    prod_neigh = get_products_neighbors(k=k)\n",
    "    \n",
    "    out = user_hist.merge(prod_neigh, on='product_id')[['user_id', 'product_id', 'weight', 'product_id_y', 'Metric']]\n",
    "    \n",
    "    out['Metric'] = (out['Metric'] + 1) / out['weight']\n",
    "        \n",
    "    out = out.sort_values(['user_id', 'Metric'], ascending=True)\\\n",
    "                                            .reset_index()\\\n",
    "                                            .groupby('user_id')\\\n",
    "                                            .apply(lambda x: x.iloc[: k])\\\n",
    "                                            .rename(columns={'user_id': 'user_id_y'})\\\n",
    "                                            .groupby('user_id_y')['product_id_y'].agg(list)\n",
    "    \n",
    "    return out"
   ]
  },
  {
   "cell_type": "code",
   "execution_count": 19,
   "metadata": {},
   "outputs": [
    {
     "data": {
      "text/plain": [
       "user_id_y\n",
       "1    [196, 12427, 10258, 25133, 46149, 49235, 14084...\n",
       "7    [10895, 21137, 47272, 37602, 45628, 39275, 408...\n",
       "Name: product_id_y, dtype: object"
      ]
     },
     "execution_count": 19,
     "metadata": {},
     "output_type": "execute_result"
    }
   ],
   "source": [
    "# Sample\n",
    "\n",
    "predict(df_train, [1, 7])"
   ]
  },
  {
   "cell_type": "markdown",
   "metadata": {},
   "source": [
    "___\n",
    "Model will be evaluated by MAP@10 metric, which is average value of Precision@10."
   ]
  },
  {
   "cell_type": "code",
   "execution_count": 59,
   "metadata": {},
   "outputs": [],
   "source": [
    "# Evaluation metric\n",
    "\n",
    "def precision(arr1:(list, np.ndarray), arr2:(list, np.ndarray), n:int=10) -> float:\n",
    "    \n",
    "    \"\"\" Returns Precision@n score for two arrays \"\"\"\n",
    "    \n",
    "    assert isinstance(arr1, (list, np.ndarray)) * isinstance(arr2, (list, np.ndarray)), 'Wrong type of input!'\n",
    "    \n",
    "    return len(set(arr1) & set(arr2)) / n"
   ]
  },
  {
   "cell_type": "code",
   "execution_count": 32,
   "metadata": {},
   "outputs": [
    {
     "name": "stdout",
     "output_type": "stream",
     "text": [
      "Wall time: 2min 21s\n"
     ]
    }
   ],
   "source": [
    "%%time\n",
    "\n",
    "# Predictions for all users\n",
    "\n",
    "pred = predict(df_train, users)"
   ]
  },
  {
   "cell_type": "code",
   "execution_count": 33,
   "metadata": {},
   "outputs": [
    {
     "name": "stdout",
     "output_type": "stream",
     "text": [
      "MAP@n score: 0.293\n",
      "Wall time: 2min 6s\n"
     ]
    }
   ],
   "source": [
    "%%time\n",
    "\n",
    "# Calculating score\n",
    "\n",
    "res = []\n",
    "for user, arr1 in zip(pred.index, pred.values):\n",
    "    arr2 = df_test[df_test['user_id'].eq(user)]['product_id'].values\n",
    "    res.append(precision(arr1, arr2))\n",
    "    \n",
    "res = np.mean(res)\n",
    "print(f'MAP@n score: {res:.3f}')"
   ]
  },
  {
   "cell_type": "markdown",
   "metadata": {},
   "source": [
    "<div class=\"alert alert-success\">\n",
    "Final score online for this model was 0.277. We can consider this as success!</div>"
   ]
  },
  {
   "cell_type": "markdown",
   "metadata": {},
   "source": [
    "## Conclusion<a id='5'></a>"
   ]
  },
  {
   "cell_type": "markdown",
   "metadata": {},
   "source": [
    "To summarize, we did a good job. We created model which is better than basic solution and our score is even higher than `0.25`. Despite the fact that the main idea is straighter than a straight line, it provides quite good results and trains very fast. The pipeline from original data files from Kaggle to submission file for all users takes about 11 minutes. Additionally, we were able to use parallel calculations successfully, which helped us to shorten train time.<br/>\n",
    "<br/>\n",
    "The one thing left by now - wrapping this idea into working python code (`Stage 2`) to complete the task."
   ]
  }
 ],
 "metadata": {
  "kernelspec": {
   "display_name": "Python 3",
   "language": "python",
   "name": "python3"
  },
  "language_info": {
   "codemirror_mode": {
    "name": "ipython",
    "version": 3
   },
   "file_extension": ".py",
   "mimetype": "text/x-python",
   "name": "python",
   "nbconvert_exporter": "python",
   "pygments_lexer": "ipython3",
   "version": "3.8.5"
  },
  "varInspector": {
   "cols": {
    "lenName": 16,
    "lenType": 16,
    "lenVar": 40
   },
   "kernels_config": {
    "python": {
     "delete_cmd_postfix": "",
     "delete_cmd_prefix": "del ",
     "library": "var_list.py",
     "varRefreshCmd": "print(var_dic_list())"
    },
    "r": {
     "delete_cmd_postfix": ") ",
     "delete_cmd_prefix": "rm(",
     "library": "var_list.r",
     "varRefreshCmd": "cat(var_dic_list()) "
    }
   },
   "position": {
    "height": "212.85px",
    "left": "1160.8px",
    "right": "20px",
    "top": "120px",
    "width": "338.4px"
   },
   "types_to_exclude": [
    "module",
    "function",
    "builtin_function_or_method",
    "instance",
    "_Feature"
   ],
   "window_display": false
  }
 },
 "nbformat": 4,
 "nbformat_minor": 4
}
